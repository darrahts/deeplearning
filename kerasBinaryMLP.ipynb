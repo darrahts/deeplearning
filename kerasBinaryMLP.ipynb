{
 "cells": [
  {
   "cell_type": "markdown",
   "metadata": {},
   "source": [
    "# Multi Layer Perceptron Example \n",
    "- need multiple layers for non-linearly seperable classes"
   ]
  },
  {
   "cell_type": "markdown",
   "metadata": {},
   "source": [
    "### Imports\n",
    "- Sequential allows for the creation of a model layer by laer\n",
    "- Dense creates fully connected layers\n",
    "- Adam optimizer is an extension to stochastic gradient descent in that it computes individual adaptive learning rates for different parameters from estimates of first and second moments of the gradient\n",
    "- https://machinelearningmastery.com/adam-optimization-algorithm-for-deep-learning/"
   ]
  },
  {
   "cell_type": "code",
   "execution_count": 1,
   "metadata": {},
   "outputs": [
    {
     "name": "stderr",
     "output_type": "stream",
     "text": [
      "Using TensorFlow backend.\n"
     ]
    }
   ],
   "source": [
    "import numpy as np\n",
    "import matplotlib.pyplot as plt\n",
    "from sklearn import datasets\n",
    "from keras.models import Sequential\n",
    "from keras.layers import Dense\n",
    "from keras.optimizers import Adam"
   ]
  },
  {
   "cell_type": "markdown",
   "metadata": {},
   "source": [
    "### Functions\n",
    "- **plotDecisionBoundary** creates a contour plot to easily visualize the decision boundary of the classifier"
   ]
  },
  {
   "cell_type": "code",
   "execution_count": 2,
   "metadata": {},
   "outputs": [],
   "source": [
    "def plotDecisionBoundary(X,y, mdl):\n",
    "    xSpan = np.linspace(min(X[:,0])-1, max(X[:,0])+1)\n",
    "    ySpan = np.linspace(min(X[:,1])-1, max(X[:,0])+1)\n",
    "    xx,yy = np.meshgrid(xSpan, ySpan)\n",
    "    _xx,_yy = xx.ravel(), yy.ravel()\n",
    "    grid = np.c_[_xx,_yy]\n",
    "    pred = model.predict(grid)\n",
    "    z = pred.reshape(xx.shape)\n",
    "    plt.contourf(xx,yy,z)"
   ]
  },
  {
   "cell_type": "markdown",
   "metadata": {},
   "source": [
    "### Generate a non-linearly separable dataset\n",
    "- use sklearn datasets\n",
    "- https://scikit-learn.org/stable/modules/generated/sklearn.datasets.make_circles.html"
   ]
  },
  {
   "cell_type": "code",
   "execution_count": 3,
   "metadata": {},
   "outputs": [
    {
     "name": "stdout",
     "output_type": "stream",
     "text": [
      "[[ 0.59933176 -0.30308945]\n",
      " [-0.29928852  0.16693628]\n",
      " [-0.22542444  0.24708004]\n",
      " [ 0.07576725 -0.26904717]\n",
      " [-0.28339894  0.25932886]]\n",
      "[0 1 1 1 1]\n"
     ]
    }
   ],
   "source": [
    "numPoints = 500\n",
    "X, y = datasets.make_circles(n_samples=numPoints, random_state=123, noise=.16, factor=.15)\n",
    "print(X[0:5,:])\n",
    "print(y[0:5])"
   ]
  },
  {
   "cell_type": "markdown",
   "metadata": {},
   "source": [
    "### Plot the dataseet\n",
    "- separate them by label"
   ]
  },
  {
   "cell_type": "code",
   "execution_count": 4,
   "metadata": {},
   "outputs": [
    {
     "data": {
      "image/png": "[encoded data removed]",
      "text/plain": [
       "<Figure size 432x288 with 1 Axes>"
      ]
     },
     "metadata": {
      "needs_background": "light"
     },
     "output_type": "display_data"
    }
   ],
   "source": [
    "plt.scatter(X[y==0, 0], X[y==0, 1], color='blue')\n",
    "plt.scatter(X[y==1, 0], X[y==1, 1], color='red')\n",
    "plt.legend([\"class 0\", \"class 1\"])\n",
    "plt.show()"
   ]
  },
  {
   "cell_type": "markdown",
   "metadata": {},
   "source": [
    "### Define the model\n",
    "- too little nodes will result in a poor network\n",
    "- too many nodes will result in overfitting\n",
    "- input_shape is the number of input features\n",
    "- two classes so use binary_crossentropy for back propagation\n",
    "- metrics is used for evaluation https://keras.io/metrics/"
   ]
  },
  {
   "cell_type": "code",
   "execution_count": 5,
   "metadata": {},
   "outputs": [],
   "source": [
    "model =  Sequential()\n",
    "#hidden layer\n",
    "model.add(Dense(4, input_shape=(2,), activation='sigmoid'))\n",
    "#output layer\n",
    "model.add(Dense(1, activation='sigmoid'))\n",
    "model.compile(Adam(lr=0.03), 'binary_crossentropy', metrics=['accuracy'])"
   ]
  },
  {
   "cell_type": "markdown",
   "metadata": {},
   "source": [
    "### Train the network\n",
    "- set verbose [0,4] which outputs fitting data as seen previously\n",
    "- batch_size is determined by size of data and available system memory\n",
    "- shuffle mixes data rows at each epoch\n",
    "- model.fit returns a history object https://machinelearningmastery.com/display-deep-learning-model-training-history-in-keras/\n"
   ]
  },
  {
   "cell_type": "code",
   "execution_count": 6,
   "metadata": {},
   "outputs": [],
   "source": [
    "hist = model.fit(x=X, y=y, verbose=0, batch_size=50, epochs=100, shuffle='true')"
   ]
  },
  {
   "cell_type": "markdown",
   "metadata": {},
   "source": [
    "### Visualize the model performance"
   ]
  },
  {
   "cell_type": "code",
   "execution_count": 7,
   "metadata": {},
   "outputs": [
    {
     "name": "stdout",
     "output_type": "stream",
     "text": [
      "dict_keys(['loss', 'acc'])\n"
     ]
    },
    {
     "data": {
      "image/png": "[encoded data removed]",
      "text/plain": [
       "<Figure size 432x288 with 1 Axes>"
      ]
     },
     "metadata": {
      "needs_background": "light"
     },
     "output_type": "display_data"
    }
   ],
   "source": [
    "print(hist.history.keys())\n",
    "plt.plot(hist.history['acc'], label='accuracy')\n",
    "plt.plot(hist.history['loss'], label='loss')\n",
    "plt.title(\"model performance\")\n",
    "plt.xlabel(\"epoch\")\n",
    "plt.legend()\n",
    "plt.show()"
   ]
  },
  {
   "cell_type": "markdown",
   "metadata": {},
   "source": [
    "### Make predictions"
   ]
  },
  {
   "cell_type": "code",
   "execution_count": 35,
   "metadata": {},
   "outputs": [
    {
     "name": "stdout",
     "output_type": "stream",
     "text": [
      "0.01\n",
      "1.0\n",
      "0.5\n"
     ]
    }
   ],
   "source": [
    "class0 = np.array([[1.1, 0.0]])\n",
    "pred0 = round(model.predict(class0)[0][0], 2)\n",
    "class1 = np.array([[0.1, -.1]])\n",
    "pred1 = round(model.predict(class1)[0][0], 2)\n",
    "classQ = np.array([[.498, -.09]])\n",
    "predQ = round(model.predict(classQ)[0][0], 2)\n",
    "print(pred0)\n",
    "print(pred1)\n",
    "print(predQ)"
   ]
  },
  {
   "cell_type": "markdown",
   "metadata": {},
   "source": [
    "### Plot the decision boundary"
   ]
  },
  {
   "cell_type": "code",
   "execution_count": 36,
   "metadata": {},
   "outputs": [
    {
     "data": {
      "text/plain": [
       "<matplotlib.legend.Legend at 0x7f095c3a74e0>"
      ]
     },
     "execution_count": 36,
     "metadata": {},
     "output_type": "execute_result"
    },
    {
     "data": {
      "image/png": "[encoded data removed]",
      "text/plain": [
       "<Figure size 432x288 with 1 Axes>"
      ]
     },
     "metadata": {
      "needs_background": "light"
     },
     "output_type": "display_data"
    }
   ],
   "source": [
    "plotDecisionBoundary(X,y,model)\n",
    "plt.scatter(X[:numPoints,0], X[:numPoints,1])\n",
    "plt.scatter(X[numPoints:,0], X[numPoints:,1])\n",
    "axes = plt.gca()\n",
    "axes.set_ylim([X[:,1].min()-.1,X[:,1].max()+.1])\n",
    "axes.set_xlim([X[:,0].min()-.1,X[:,0].max()+.1])\n",
    "plt.plot(class0[0,0], class0[0,1], marker=\"o\", markersize=10, color='yellow', label=\"class: 0, pred: %d\" % pred0)\n",
    "plt.plot(class1[0,0], class1[0,1], marker=\"o\", markersize=10, color='blue', label=\"class: 1, pred: %d\" % pred1)\n",
    "plt.plot(classQ[0,0], classQ[0,1], marker=\"o\", markersize=10, color='white', label=\"class: ? pred: %.2f\" %predQ)\n",
    "plt.legend()"
   ]
  },
  {
   "cell_type": "code",
   "execution_count": null,
   "metadata": {},
   "outputs": [],
   "source": []
  },
  {
   "cell_type": "code",
   "execution_count": null,
   "metadata": {},
   "outputs": [],
   "source": []
  },
  {
   "cell_type": "code",
   "execution_count": null,
   "metadata": {},
   "outputs": [],
   "source": []
  },
  {
   "cell_type": "code",
   "execution_count": null,
   "metadata": {},
   "outputs": [],
   "source": []
  },
  {
   "cell_type": "code",
   "execution_count": null,
   "metadata": {},
   "outputs": [],
   "source": []
  },
  {
   "cell_type": "code",
   "execution_count": null,
   "metadata": {},
   "outputs": [],
   "source": []
  }
 ],
 "metadata": {
  "kernelspec": {
   "display_name": "Python 3",
   "language": "python",
   "name": "python3"
  },
  "language_info": {
   "codemirror_mode": {
    "name": "ipython",
    "version": 3
   },
   "file_extension": ".py",
   "mimetype": "text/x-python",
   "name": "python",
   "nbconvert_exporter": "python",
   "pygments_lexer": "ipython3",
   "version": "3.6.8"
  }
 },
 "nbformat": 4,
 "nbformat_minor": 2
}
