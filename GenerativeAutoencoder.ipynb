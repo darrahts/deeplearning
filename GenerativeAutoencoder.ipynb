{
 "cells": [
  {
   "cell_type": "markdown",
   "metadata": {},
   "source": [
    "# AutoEncoder\n",
    "- used for generative sampling"
   ]
  },
  {
   "cell_type": "code",
   "execution_count": 15,
   "metadata": {},
   "outputs": [],
   "source": [
    "import numpy as np\n",
    "import tensorflow as tf\n",
    "import matplotlib.pyplot as plt\n",
    "import pandas as pd\n",
    "from sklearn.utils import shuffle\n",
    "import time"
   ]
  },
  {
   "cell_type": "code",
   "execution_count": 3,
   "metadata": {},
   "outputs": [],
   "source": [
    "def get_mnist(file,limit=None):\n",
    "    df = pd.read_csv('datasets/mnist_train_kaggle.csv')\n",
    "    data = df.values\n",
    "    # np.random.shuffle(data)\n",
    "    X = data[:, 1:] / 255.0 # data is from 0..255\n",
    "    Y = data[:, 0]\n",
    "    X, Y = shuffle(X, Y)\n",
    "    if limit is not None:\n",
    "        X, Y = X[:limit], Y[:limit]\n",
    "    return X, Y"
   ]
  },
  {
   "cell_type": "code",
   "execution_count": 28,
   "metadata": {},
   "outputs": [],
   "source": [
    "class Autoencoder:\n",
    "    def __init__(self, D, M):\n",
    "        \"\"\"\n",
    "            Descr: initializes the layers, optimizer, and session\n",
    "            params:\n",
    "                D: input dimension\n",
    "                M: hidden layer dimension\n",
    "        \"\"\"\n",
    "        # batch of training data\n",
    "        self.X = tf.placeholder(tf.float32, shape=(None, D))\n",
    "        \n",
    "        # input (D) to hidden (M)\n",
    "        self.w = tf.Variable(tf.random_normal(shape=(D,M)) * 2 / np.sqrt(M))\n",
    "        self.b = tf.Variable(np.zeros(M).astype(np.float32))\n",
    "        \n",
    "        # hidden (M) to output (D)\n",
    "        self.v = tf.Variable(tf.random_normal(shape=(M,D)) * 2/ np.sqrt(D))\n",
    "        self.c = tf.Variable(np.zeros(D).astype(np.float32))\n",
    "        \n",
    "        # reconstruction\n",
    "        self.z = tf.nn.relu(tf.matmul(self.X, self.w) + self.b)\n",
    "        logits = tf.matmul(self.z, self.v) + self.c\n",
    "        self.X_hat = tf.nn.sigmoid(logits)\n",
    "        \n",
    "        # cost\n",
    "        self.cost = tf.reduce_sum(tf.nn.sigmoid_cross_entropy_with_logits(labels=self.X, logits=logits))\n",
    "        \n",
    "        # optimizer\n",
    "        self.train_op = tf.train.RMSPropOptimizer(learning_rate=.001).minimize(self.cost)\n",
    "        \n",
    "        # set up session\n",
    "        self.init_op = tf.global_variables_initializer()\n",
    "        self.sess = tf.InteractiveSession()\n",
    "        self.sess.run(self.init_op)\n",
    "        \n",
    "    def fit(self, X, epochs=30, batch_size=64, verbose=False):\n",
    "        costs = []\n",
    "        n_batches = len(X) // batch_size\n",
    "        print(\"number of batches: \" + str(n_batches))\n",
    "        for i in range(epochs):\n",
    "            if(verbose):\n",
    "                print(\"epoch: \" + str(i))\n",
    "            np.random.shuffle(X)\n",
    "            for j in range(n_batches):\n",
    "                start = j * batch_size\n",
    "                stop  = (j+1) * batch_size\n",
    "                batch = X[start:stop]\n",
    "                _, c, = self.sess.run((self.train_op, self.cost), feed_dict={self.X: batch})\n",
    "                c /= batch_size\n",
    "                costs.append(c)\n",
    "                if(verbose):\n",
    "                    if(j % 100 == 0):\n",
    "                        print(\"iteration: %d, cost: %.3f\" % (j,c))\n",
    "        return costs\n",
    "    \n",
    "    def predict(self, X):\n",
    "        return self.sess.run(self.X_hat, feed_dict={self.X: X})\n",
    "        "
   ]
  },
  {
   "cell_type": "code",
   "execution_count": 30,
   "metadata": {},
   "outputs": [
    {
     "name": "stdout",
     "output_type": "stream",
     "text": [
      "number of batches: 656\n",
      "total time: 23.53272557258606\n"
     ]
    }
   ],
   "source": [
    "X,y = get_mnist('datasets\\mnist_train_kaggle.csv')\n",
    "start = time.time()\n",
    "with tf.device('/gpu:1'):\n",
    "    model = Autoencoder(784, 300)\n",
    "    costs = model.fit(X)\n",
    "end = time.time()\n",
    "print(\"total time: \" + str(end-start))"
   ]
  },
  {
   "cell_type": "code",
   "execution_count": 31,
   "metadata": {},
   "outputs": [
    {
     "data": {
      "image/png": "[encoded data removed]",
      "text/plain": [
       "<Figure size 432x288 with 1 Axes>"
      ]
     },
     "metadata": {
      "needs_background": "light"
     },
     "output_type": "display_data"
    }
   ],
   "source": [
    "plt.plot(costs)\n",
    "plt.show()"
   ]
  },
  {
   "cell_type": "code",
   "execution_count": 33,
   "metadata": {},
   "outputs": [
    {
     "data": {
      "image/png": "[encoded data removed]",
      "text/plain": [
       "<Figure size 432x288 with 2 Axes>"
      ]
     },
     "metadata": {
      "needs_background": "light"
     },
     "output_type": "display_data"
    },
    {
     "name": "stdin",
     "output_type": "stream",
     "text": [
      "generate another? y\n"
     ]
    },
    {
     "data": {
      "image/png": "[encoded data removed]",
      "text/plain": [
       "<Figure size 432x288 with 2 Axes>"
      ]
     },
     "metadata": {
      "needs_background": "light"
     },
     "output_type": "display_data"
    },
    {
     "name": "stdin",
     "output_type": "stream",
     "text": [
      "generate another? y\n"
     ]
    },
    {
     "data": {
      "image/png": "[encoded data removed]",
      "text/plain": [
       "<Figure size 432x288 with 2 Axes>"
      ]
     },
     "metadata": {
      "needs_background": "light"
     },
     "output_type": "display_data"
    },
    {
     "name": "stdin",
     "output_type": "stream",
     "text": [
      "generate another? N\n"
     ]
    }
   ],
   "source": [
    "while(True):\n",
    "    i = np.random.choice(len(X))\n",
    "    x = X[i]\n",
    "    img = model.predict([x]).reshape(28,28)\n",
    "    plt.subplot(121)\n",
    "    plt.imshow(x.reshape(28,28), cmap='gray')\n",
    "    plt.title(\"original\")\n",
    "    plt.subplot(122)\n",
    "    plt.imshow(img, cmap='gray')\n",
    "    plt.title(\"reconstruction\")\n",
    "    plt.show()\n",
    "    \n",
    "    if(input(\"generate another?\") in 'N'):\n",
    "        break"
   ]
  },
  {
   "cell_type": "code",
   "execution_count": 21,
   "metadata": {},
   "outputs": [],
   "source": []
  },
  {
   "cell_type": "code",
   "execution_count": 34,
   "metadata": {},
   "outputs": [],
   "source": [
    "model.sess.close()"
   ]
  },
  {
   "cell_type": "code",
   "execution_count": null,
   "metadata": {},
   "outputs": [],
   "source": []
  },
  {
   "cell_type": "code",
   "execution_count": null,
   "metadata": {},
   "outputs": [],
   "source": []
  }
 ],
 "metadata": {
  "kernelspec": {
   "display_name": "tfgpu",
   "language": "python",
   "name": "tfgpu"
  },
  "language_info": {
   "codemirror_mode": {
    "name": "ipython",
    "version": 3
   },
   "file_extension": ".py",
   "mimetype": "text/x-python",
   "name": "python",
   "nbconvert_exporter": "python",
   "pygments_lexer": "ipython3",
   "version": "3.7.4"
  }
 },
 "nbformat": 4,
 "nbformat_minor": 4
}
