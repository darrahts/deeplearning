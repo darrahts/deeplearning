{
 "cells": [
  {
   "cell_type": "markdown",
   "metadata": {},
   "source": [
    "# Generative Modeling\n",
    "### Sampling from a Bayes Classifier\n",
    "- since we are not concerned with classification, we aren't concerned with evaluation"
   ]
  },
  {
   "cell_type": "code",
   "execution_count": 1,
   "metadata": {},
   "outputs": [],
   "source": [
    "import python_utils\n",
    "import numpy as np\n",
    "import matplotlib.pyplot as plt\n",
    "from scipy.stats import multivariate_normal as mvn\n",
    "import pandas as pd\n",
    "from sklearn.utils import shuffle\n",
    "\n",
    "#https://github.com/lazyprogrammer/machine_learning_examples/blob/master/unsupervised_class3/util.py"
   ]
  },
  {
   "cell_type": "markdown",
   "metadata": {},
   "source": [
    "#### A simple Bayes Classifier class"
   ]
  },
  {
   "cell_type": "code",
   "execution_count": 2,
   "metadata": {},
   "outputs": [],
   "source": [
    "class BayesClassifier:\n",
    "    def __init__(self):\n",
    "        self.k = 0\n",
    "        self.gaussians = []\n",
    "    \n",
    "    def fit(self, X, y):\n",
    "        \"\"\"\n",
    "            Descr: Fit a set of observations and labels to a gaussian distribution\n",
    "            \n",
    "            Params:\n",
    "                X: the observations\n",
    "                y: the labels\n",
    "        \"\"\"\n",
    "        self.k = len(set(y))\n",
    "        # classes are 0...k-1\n",
    "        print(\"using simple gaussian model\")\n",
    "        for k in range(self.k):\n",
    "            Xk = X[y == k]\n",
    "            mu = Xk.mean(axis=0)\n",
    "            sigma = np.cov(Xk.T)\n",
    "            gaussian = {'mu': mu, 'sigma': sigma}\n",
    "            self.gaussians.append(gaussian)\n",
    "            \n",
    "    def sample_given_y(self, y):\n",
    "        \"\"\"\n",
    "            Descr: Sample a distribution\n",
    "            \n",
    "            Params:\n",
    "                y: the distribution to sample (label)\n",
    "                \n",
    "            Returns: an observation from the distribution\n",
    "        \"\"\"\n",
    "        gaussian = self.gaussians[y]\n",
    "        return mvn.rvs(mean=gaussian['mu'], cov=gaussian['sigma'])\n",
    "        \n",
    "    def sample(self):\n",
    "        \"\"\"\n",
    "            Descr: Sample a random class from a uniform distribution\n",
    "            \n",
    "            Returns: an observation from a random class\n",
    "        \"\"\"\n",
    "        y = np.random.randint(self.k)\n",
    "        return self.sample_given_y(y)\n",
    "    "
   ]
  },
  {
   "cell_type": "markdown",
   "metadata": {},
   "source": [
    "#### Get the data"
   ]
  },
  {
   "cell_type": "code",
   "execution_count": 3,
   "metadata": {},
   "outputs": [],
   "source": [
    "def get_mnist(file,limit=None):\n",
    "    df = pd.read_csv('datasets/mnist_train_kaggle.csv')\n",
    "    data = df.values\n",
    "    # np.random.shuffle(data)\n",
    "    X = data[:, 1:] / 255.0 # data is from 0..255\n",
    "    Y = data[:, 0]\n",
    "    X, Y = shuffle(X, Y)\n",
    "    if limit is not None:\n",
    "        X, Y = X[:limit], Y[:limit]\n",
    "    return X, Y"
   ]
  },
  {
   "cell_type": "markdown",
   "metadata": {},
   "source": [
    "Fit the classifier"
   ]
  },
  {
   "cell_type": "code",
   "execution_count": 4,
   "metadata": {},
   "outputs": [
    {
     "name": "stdout",
     "output_type": "stream",
     "text": [
      "using simple gaussian model\n"
     ]
    }
   ],
   "source": [
    "X, y = get_mnist('datasets/mnist_train_kaggle.csv')\n",
    "clf = BayesClassifier()\n",
    "clf.fit(X,y)"
   ]
  },
  {
   "cell_type": "code",
   "execution_count": 5,
   "metadata": {},
   "outputs": [
    {
     "data": {
      "image/png": "[encoded data removed]",
      "text/plain": [
       "<Figure size 432x288 with 2 Axes>"
      ]
     },
     "metadata": {
      "needs_background": "light"
     },
     "output_type": "display_data"
    },
    {
     "data": {
      "image/png": "[encoded data removed]",
      "text/plain": [
       "<Figure size 432x288 with 2 Axes>"
      ]
     },
     "metadata": {
      "needs_background": "light"
     },
     "output_type": "display_data"
    },
    {
     "data": {
      "image/png": "[encoded data removed]",
      "text/plain": [
       "<Figure size 432x288 with 2 Axes>"
      ]
     },
     "metadata": {
      "needs_background": "light"
     },
     "output_type": "display_data"
    },
    {
     "data": {
      "image/png": "[encoded data removed]",
      "text/plain": [
       "<Figure size 432x288 with 2 Axes>"
      ]
     },
     "metadata": {
      "needs_background": "light"
     },
     "output_type": "display_data"
    },
    {
     "data": {
      "image/png": "[encoded data removed]",
      "text/plain": [
       "<Figure size 432x288 with 2 Axes>"
      ]
     },
     "metadata": {
      "needs_background": "light"
     },
     "output_type": "display_data"
    },
    {
     "data": {
      "image/png": "[encoded data removed]",
      "text/plain": [
       "<Figure size 432x288 with 2 Axes>"
      ]
     },
     "metadata": {
      "needs_background": "light"
     },
     "output_type": "display_data"
    },
    {
     "data": {
      "image/png": "[encoded data removed]",
      "text/plain": [
       "<Figure size 432x288 with 2 Axes>"
      ]
     },
     "metadata": {
      "needs_background": "light"
     },
     "output_type": "display_data"
    },
    {
     "data": {
      "image/png": "[encoded data removed]",
      "text/plain": [
       "<Figure size 432x288 with 2 Axes>"
      ]
     },
     "metadata": {
      "needs_background": "light"
     },
     "output_type": "display_data"
    },
    {
     "data": {
      "image/png": "[encoded data removed]",
      "text/plain": [
       "<Figure size 432x288 with 2 Axes>"
      ]
     },
     "metadata": {
      "needs_background": "light"
     },
     "output_type": "display_data"
    },
    {
     "data": {
      "image/png": "[encoded data removed]",
      "text/plain": [
       "<Figure size 432x288 with 2 Axes>"
      ]
     },
     "metadata": {
      "needs_background": "light"
     },
     "output_type": "display_data"
    }
   ],
   "source": [
    "for k in range(clf.k):\n",
    "    sample = clf.sample_given_y(k).reshape(28,28)\n",
    "    mu = clf.gaussians[k]['mu'].reshape(28,28)\n",
    "    \n",
    "    plt.subplot(10,2,k+1)\n",
    "    plt.imshow(sample, cmap='gray')\n",
    "    plt.title(\"sample\")\n",
    "    \n",
    "    plt.subplot(10,2,k+2)\n",
    "    plt.imshow(mu, cmap='gray')\n",
    "    plt.title(\"Mean\")\n",
    "    plt.show()"
   ]
  },
  {
   "cell_type": "markdown",
   "metadata": {},
   "source": [
    "#### Generate a random sample"
   ]
  },
  {
   "cell_type": "code",
   "execution_count": 6,
   "metadata": {},
   "outputs": [
    {
     "data": {
      "image/png": "[encoded data removed]",
      "text/plain": [
       "<Figure size 432x288 with 2 Axes>"
      ]
     },
     "metadata": {
      "needs_background": "light"
     },
     "output_type": "display_data"
    }
   ],
   "source": [
    "sample = clf.sample().reshape(28,28)\n",
    "sample3 = clf.sample_given_y(3).reshape(28,28)\n",
    "\n",
    "plt.subplot(121)\n",
    "plt.imshow(sample)\n",
    "plt.title(\"random sample\")\n",
    "\n",
    "plt.subplot(122)\n",
    "plt.imshow(sample3)\n",
    "plt.title(\"random sample from class 3\")\n",
    "\n",
    "plt.show()"
   ]
  },
  {
   "cell_type": "markdown",
   "metadata": {},
   "source": [
    "## Gaussian Mixture\n",
    "- https://scikit-learn.org/stable/modules/generated/sklearn.mixture.BayesianGaussianMixture.html"
   ]
  },
  {
   "cell_type": "code",
   "execution_count": 7,
   "metadata": {},
   "outputs": [],
   "source": [
    "from sklearn.mixture import BayesianGaussianMixture"
   ]
  },
  {
   "cell_type": "markdown",
   "metadata": {},
   "source": [
    "### The improved Bayes Classifier"
   ]
  },
  {
   "cell_type": "code",
   "execution_count": 30,
   "metadata": {},
   "outputs": [],
   "source": [
    "class ImprovedBayesClassifier(BayesClassifier):\n",
    "    \"\"\"\n",
    "        Inherits from simple classifier\n",
    "        overrides fit and sample_given_y\n",
    "    \"\"\"\n",
    "    def __init__(self):\n",
    "        #BayesClassifier.__init__(self)\n",
    "        super().__init__() # also works\n",
    "        \n",
    "    def fit(self, X, y):\n",
    "        print(\"using improved gaussian mixture model\")\n",
    "        self.k = len(set(y))\n",
    "        for k in range(0, self.k):\n",
    "            Xk = X[y==k]\n",
    "            gmm = BayesianGaussianMixture(10)\n",
    "            gmm.fit(Xk)\n",
    "            self.gaussians.append(gmm)\n",
    "            \n",
    "    def sample_given_y(self, y):\n",
    "        gmm = self.gaussians[y]\n",
    "        sample = gmm.sample()\n",
    "        mu = gmm.means_[sample[1]].reshape(28,28)\n",
    "        sample = sample[0].reshape(28,28)\n",
    "        return sample, mu\n",
    "        "
   ]
  },
  {
   "cell_type": "code",
   "execution_count": 31,
   "metadata": {},
   "outputs": [
    {
     "name": "stdout",
     "output_type": "stream",
     "text": [
      "using improved gaussian mixture model\n"
     ]
    }
   ],
   "source": [
    "clf_gmm = ImprovedBayesClassifier()\n",
    "clf_gmm.fit(X,y)"
   ]
  },
  {
   "cell_type": "code",
   "execution_count": 37,
   "metadata": {},
   "outputs": [
    {
     "data": {
      "image/png": "[encoded data removed]",
      "text/plain": [
       "<Figure size 432x288 with 2 Axes>"
      ]
     },
     "metadata": {
      "needs_background": "light"
     },
     "output_type": "display_data"
    }
   ],
   "source": [
    "sample = clf_gmm.sample()\n",
    "mean   = sample[1].reshape(28,28)\n",
    "sample = sample[0].reshape(28,28)\n",
    "\n",
    "plt.subplot(121)\n",
    "plt.imshow(sample)\n",
    "plt.title(\"random sample\")\n",
    "\n",
    "plt.subplot(122)\n",
    "plt.imshow(mean)\n",
    "plt.title(\"random sample mean\")\n",
    "\n",
    "plt.show()"
   ]
  },
  {
   "cell_type": "markdown",
   "metadata": {},
   "source": [
    "The samples are clearer!"
   ]
  },
  {
   "cell_type": "code",
   "execution_count": null,
   "metadata": {},
   "outputs": [],
   "source": []
  },
  {
   "cell_type": "code",
   "execution_count": null,
   "metadata": {},
   "outputs": [],
   "source": []
  }
 ],
 "metadata": {
  "kernelspec": {
   "display_name": "tfgpu",
   "language": "python",
   "name": "tfgpu"
  },
  "language_info": {
   "codemirror_mode": {
    "name": "ipython",
    "version": 3
   },
   "file_extension": ".py",
   "mimetype": "text/x-python",
   "name": "python",
   "nbconvert_exporter": "python",
   "pygments_lexer": "ipython3",
   "version": "3.7.4"
  }
 },
 "nbformat": 4,
 "nbformat_minor": 4
}
