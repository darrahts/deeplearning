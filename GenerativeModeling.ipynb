{
 "cells": [
  {
   "cell_type": "markdown",
   "metadata": {},
   "source": [
    "# Generative Modeling\n",
    "### Sampling from a Bayes Classifier"
   ]
  },
  {
   "cell_type": "code",
   "execution_count": 3,
   "metadata": {},
   "outputs": [],
   "source": [
    "import python_utils\n",
    "import numpy as np\n",
    "import matplotlib.pyplot as plt\n",
    "from scipy.stats import multivariate_normal as mvn"
   ]
  },
  {
   "cell_type": "code",
   "execution_count": null,
   "metadata": {},
   "outputs": [],
   "source": [
    "class BayesClassifier:\n",
    "    def __init__(self):\n",
    "        self.k = 0\n",
    "        self.gaussians = []\n",
    "    \n",
    "    def fit(self, X, y):\n",
    "        \"\"\"\n",
    "            Descr: Fit a set of observations and labels to a gaussian distribution\n",
    "            \n",
    "            Params:\n",
    "                X: the observations\n",
    "                y: the labels\n",
    "        \"\"\"\n",
    "        # classes are 0...k-1\n",
    "        for k in range(self.k):\n",
    "            Xk = X[y == k]\n",
    "            mu = Xk.mean(axis=0)\n",
    "            sigma = np.cov(Xk.T)\n",
    "            gaussian = {'mu': mu, 'sigma': sigma}\n",
    "            self.gaussians.append(gaussian)\n",
    "            \n",
    "    def sample_given_y(self, y):\n",
    "        \"\"\"\n",
    "            Descr: Sample a distribution\n",
    "            \n",
    "            Params:\n",
    "                y: the distribution to sample (label)\n",
    "                \n",
    "            Returns: an observation from the distribution\n",
    "        \"\"\"\n",
    "        gaussian = self.gaussians[y]\n",
    "        return mvn.rvs(mean=gaussian['mu'], cov=gaussian['sigma'])\n",
    "        "
   ]
  },
  {
   "cell_type": "code",
   "execution_count": null,
   "metadata": {},
   "outputs": [],
   "source": []
  },
  {
   "cell_type": "code",
   "execution_count": null,
   "metadata": {},
   "outputs": [],
   "source": []
  },
  {
   "cell_type": "code",
   "execution_count": null,
   "metadata": {},
   "outputs": [],
   "source": []
  }
 ],
 "metadata": {
  "kernelspec": {
   "display_name": "tfgpu",
   "language": "python",
   "name": "tfgpu"
  },
  "language_info": {
   "codemirror_mode": {
    "name": "ipython",
    "version": 3
   },
   "file_extension": ".py",
   "mimetype": "text/x-python",
   "name": "python",
   "nbconvert_exporter": "python",
   "pygments_lexer": "ipython3",
   "version": "3.7.4"
  }
 },
 "nbformat": 4,
 "nbformat_minor": 4
}
