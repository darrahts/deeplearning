{
 "cells": [
  {
   "cell_type": "markdown",
   "metadata": {},
   "source": [
    "## CODE TO DETECT LINES IN IMAGE \n",
    "  "
   ]
  },
  {
   "cell_type": "code",
   "execution_count": 1,
   "metadata": {},
   "outputs": [],
   "source": [
    "import cv2\n",
    "import numpy as np\n",
    "import matplotlib.pyplot as plt\n",
    "\n",
    "# https://pythonprogramming.net/lane-region-of-interest-python-plays-gta-v/ "
   ]
  },
  {
   "cell_type": "code",
   "execution_count": 6,
   "metadata": {},
   "outputs": [],
   "source": [
    "# image_c = cv2.imread('horizontal_vertical.jpg')\n",
    "image_c = cv2.imread('calendar.jpg')\n",
    "\n",
    "cv2.imshow('Given Image', image_c)\n",
    "cv2.waitKey(0)\n",
    "cv2.destroyAllWindows()"
   ]
  },
  {
   "cell_type": "code",
   "execution_count": 3,
   "metadata": {},
   "outputs": [
    {
     "data": {
      "text/plain": [
       "<matplotlib.image.AxesImage at 0x7f4e54031908>"
      ]
     },
     "execution_count": 3,
     "metadata": {},
     "output_type": "execute_result"
    },
    {
     "data": {
      "image/png": "[encoded data removed]",
      "text/plain": [
       "<Figure size 432x288 with 1 Axes>"
      ]
     },
     "metadata": {},
     "output_type": "display_data"
    }
   ],
   "source": [
    "plt.imshow(image_c)"
   ]
  },
  {
   "cell_type": "code",
   "execution_count": 4,
   "metadata": {},
   "outputs": [
    {
     "data": {
      "text/plain": [
       "array([[255, 255, 255, ..., 255, 255, 255],\n",
       "       [255,   0,   0, ...,   0,   0, 255],\n",
       "       [255,   0,   0, ...,   0, 255,   0],\n",
       "       ...,\n",
       "       [255,   0,   0, ...,   0, 255,   0],\n",
       "       [255,   0,   0, ...,   0,   0, 255],\n",
       "       [255, 255, 255, ..., 255, 255, 255]], dtype=uint8)"
      ]
     },
     "execution_count": 4,
     "metadata": {},
     "output_type": "execute_result"
    }
   ],
   "source": [
    "\n",
    "image_g = cv2.cvtColor(image_c, cv2.COLOR_BGR2GRAY)\n",
    "image_canny = cv2.Canny(image_g, 50, 200, apertureSize = 3)\n",
    "image_canny"
   ]
  },
  {
   "cell_type": "code",
   "execution_count": 7,
   "metadata": {},
   "outputs": [],
   "source": [
    "cv2.imshow('canny image', image_canny)\n",
    "cv2.waitKey(0)\n",
    "cv2.destroyAllWindows()"
   ]
  },
  {
   "cell_type": "code",
   "execution_count": 8,
   "metadata": {},
   "outputs": [],
   "source": [
    "\n",
    "# rho accuracy of 1 pixel and theta accuracy of np.pi / 180 (1 degree)\n",
    "# threshold is number of points on line\n",
    "# Try 300, 400 and 500\n",
    "lines = cv2.HoughLines(image_canny, 1, np.pi/180, 300)\n"
   ]
  },
  {
   "cell_type": "code",
   "execution_count": 9,
   "metadata": {},
   "outputs": [
    {
     "data": {
      "text/plain": [
       "array([[[  0.       ,   1.5707964]],\n",
       "\n",
       "       [[481.       ,   1.5707964]],\n",
       "\n",
       "       [[105.       ,   1.5707964]],\n",
       "\n",
       "       [[107.       ,   1.5707964]],\n",
       "\n",
       "       [[198.       ,   1.5707964]],\n",
       "\n",
       "       [[200.       ,   1.5707964]],\n",
       "\n",
       "       [[261.       ,   1.5707964]],\n",
       "\n",
       "       [[263.       ,   1.5707964]],\n",
       "\n",
       "       [[389.       ,   1.5707964]],\n",
       "\n",
       "       [[391.       ,   1.5707964]],\n",
       "\n",
       "       [[453.       ,   1.5707964]],\n",
       "\n",
       "       [[455.       ,   1.5707964]],\n",
       "\n",
       "       [[136.       ,   1.5707964]],\n",
       "\n",
       "       [[133.       ,   1.5707964]],\n",
       "\n",
       "       [[  0.       ,   0.       ]],\n",
       "\n",
       "       [[325.       ,   1.5707964]],\n",
       "\n",
       "       [[327.       ,   1.5707964]],\n",
       "\n",
       "       [[624.       ,   0.       ]],\n",
       "\n",
       "       [[432.       ,   0.       ]],\n",
       "\n",
       "       [[194.       ,   0.       ]],\n",
       "\n",
       "       [[196.       ,   0.       ]],\n",
       "\n",
       "       [[430.       ,   0.       ]],\n",
       "\n",
       "       [[117.       ,   0.       ]],\n",
       "\n",
       "       [[272.       ,   0.       ]],\n",
       "\n",
       "       [[351.       ,   0.       ]],\n",
       "\n",
       "       [[274.       ,   0.       ]],\n",
       "\n",
       "       [[353.       ,   0.       ]],\n",
       "\n",
       "       [[115.       ,   0.       ]],\n",
       "\n",
       "       [[ 36.       ,   0.       ]],\n",
       "\n",
       "       [[589.       ,   0.       ]]], dtype=float32)"
      ]
     },
     "execution_count": 9,
     "metadata": {},
     "output_type": "execute_result"
    }
   ],
   "source": [
    "lines\n",
    "# Note that 1.57 rad is 89.95437\n",
    "# Note that rho was the distance from the origin"
   ]
  },
  {
   "cell_type": "code",
   "execution_count": 17,
   "metadata": {},
   "outputs": [
    {
     "data": {
      "text/plain": [
       "30"
      ]
     },
     "execution_count": 17,
     "metadata": {},
     "output_type": "execute_result"
    }
   ],
   "source": [
    "len(lines)"
   ]
  },
  {
   "cell_type": "code",
   "execution_count": 18,
   "metadata": {},
   "outputs": [
    {
     "data": {
      "text/plain": [
       "(30, 1, 2)"
      ]
     },
     "execution_count": 18,
     "metadata": {},
     "output_type": "execute_result"
    }
   ],
   "source": [
    "lines.shape"
   ]
  },
  {
   "cell_type": "code",
   "execution_count": 10,
   "metadata": {},
   "outputs": [],
   "source": [
    " if lines is not None:\n",
    "        for i in range(0, len(lines)):\n",
    "            rho = lines[i][0][0]\n",
    "            theta = lines[i][0][1]\n",
    "            \n",
    "            x0 = rho * np.cos(theta)\n",
    "            y0 = rho * np.sin(theta)\n",
    "            \n",
    "            a = np.cos(theta)\n",
    "            b = np.sin(theta)\n",
    "           \n",
    "            x1 = int(x0 + 1000 * (-b))\n",
    "            y1 = int(y0 + 1000 * (a))\n",
    "            x2 = int(x0 - 1000 * (-b))\n",
    "            y2 = int(y0 - 1000 * (a))\n",
    "            cv2.line(image_c, (x1, y1), (x2, y2), (255, 0, 0), 2)\n",
    "            \n",
    "cv2.imshow('Hough Lines', image_c)\n",
    "cv2.waitKey(0)\n",
    "cv2.destroyAllWindows()"
   ]
  },
  {
   "cell_type": "markdown",
   "metadata": {},
   "source": [
    "\n",
    "\n"
   ]
  }
 ],
 "metadata": {
  "kernelspec": {
   "display_name": "Python 3",
   "language": "python",
   "name": "python3"
  },
  "language_info": {
   "codemirror_mode": {
    "name": "ipython",
    "version": 3
   },
   "file_extension": ".py",
   "mimetype": "text/x-python",
   "name": "python",
   "nbconvert_exporter": "python",
   "pygments_lexer": "ipython3",
   "version": "3.5.2"
  },
  "widgets": {
   "state": {},
   "version": "1.1.2"
  }
 },
 "nbformat": 4,
 "nbformat_minor": 1
}
