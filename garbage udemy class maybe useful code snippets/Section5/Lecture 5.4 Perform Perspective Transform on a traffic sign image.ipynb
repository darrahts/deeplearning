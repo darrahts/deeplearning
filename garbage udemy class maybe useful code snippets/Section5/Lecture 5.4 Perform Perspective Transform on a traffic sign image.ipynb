{
 "cells": [
  {
   "cell_type": "markdown",
   "metadata": {},
   "source": [
    "## CODE TO PERFORM PERSPECTIVE TRANSFORM\n",
    "## Dr. Ryan Ahmed"
   ]
  },
  {
   "cell_type": "code",
   "execution_count": 1,
   "metadata": {},
   "outputs": [],
   "source": [
    "import cv2\n",
    "import numpy as np\n",
    "import matplotlib.image as mpimg\n",
    "from matplotlib import pyplot as plt\n",
    "%matplotlib inline\n",
    "\n",
    "image = cv2.imread('Speed_Sign_View_2.jpg')\n",
    "cv2.imshow('Original Image', image)\n",
    "cv2.waitKey()\n",
    "cv2.destroyAllWindows()\n"
   ]
  },
  {
   "cell_type": "code",
   "execution_count": null,
   "metadata": {},
   "outputs": [],
   "source": [
    "image = mpimg.imread('Speed_Sign_View_2.jpg')\n",
    "plt.imshow(image)\n"
   ]
  },
  {
   "cell_type": "code",
   "execution_count": 2,
   "metadata": {},
   "outputs": [],
   "source": [
    "height, width = image.shape[:2]\n"
   ]
  },
  {
   "cell_type": "code",
   "execution_count": null,
   "metadata": {},
   "outputs": [],
   "source": [
    "height"
   ]
  },
  {
   "cell_type": "code",
   "execution_count": null,
   "metadata": {},
   "outputs": [],
   "source": [
    "width"
   ]
  },
  {
   "cell_type": "code",
   "execution_count": 3,
   "metadata": {},
   "outputs": [],
   "source": [
    "\n",
    "# define range of white color in HSV\n",
    "# change it according to your need !\n",
    "lower_white = np.array([150,150,150], dtype=np.uint8)\n",
    "upper_white = np.array([255,255,255], dtype=np.uint8)\n",
    "\n",
    "# Threshold the HSV image to get only white colors\n",
    "mask = cv2.inRange(image, lower_white, upper_white)\n",
    "# Bitwise-AND mask and original image\n",
    "res = cv2.bitwise_and(image,image, mask=mask)\n",
    "\n",
    "#cv2.imshow('frame',image)\n",
    "cv2.imshow('mask',mask)\n",
    "cv2.imshow('res',res)\n",
    "cv2.waitKey()\n",
    "cv2.destroyAllWindows()"
   ]
  },
  {
   "cell_type": "code",
   "execution_count": 9,
   "metadata": {},
   "outputs": [],
   "source": [
    "contours = cv2.findContours(mask, cv2.RETR_EXTERNAL, cv2.CHAIN_APPROX_SIMPLE)[-2]\n",
    "if(len(contours) > 0):\n",
    "    cont = max(contours, key=cv2.contourArea)\n",
    "cv2.drawContours(image, [cont], -1, (0, 255, 0), 2)\n",
    "cv2.imshow('im2', image)\n",
    "cv2.waitKey()\n",
    "cv2.destroyAllWindows()"
   ]
  },
  {
   "cell_type": "code",
   "execution_count": null,
   "metadata": {},
   "outputs": [],
   "source": [
    "cnt = contours[0]\n",
    "rect = cv2.minAreaRect(cnt)\n",
    "box = cv2.boxPoints(rect)\n",
    "box = np.int0(box)\n",
    "cv2.drawContours(image,[box],0,(0,0,255),2)\n",
    "cv2.imshow('im2', image)\n",
    "cv2.waitKey()\n",
    "cv2.destroyAllWindows()"
   ]
  },
  {
   "cell_type": "code",
   "execution_count": 8,
   "metadata": {},
   "outputs": [
    {
     "data": {
      "text/plain": [
       "array([[485, 598],\n",
       "       [485, 598],\n",
       "       [485, 598],\n",
       "       [485, 598]])"
      ]
     },
     "execution_count": 8,
     "metadata": {},
     "output_type": "execute_result"
    }
   ],
   "source": [
    "box"
   ]
  },
  {
   "cell_type": "code",
   "execution_count": null,
   "metadata": {},
   "outputs": [],
   "source": [
    "# First entry: top-left,\n",
    "# Second entry: top-right\n",
    "# Third: bottom-right\n",
    "# Fourth: bottom-left\n",
    "\n",
    "# Cordinates of the 4 corners of the original image #use contour points to find in real time\n",
    "Source_points = np.float32([[200,60], [450,150], [520, 500], [170,470] ])\n",
    "\n",
    "# Cordinates of the 4 corners of the desired output\n",
    "Destination_points = np.float32([[0,0], [width,0], [width,height], [0,height]])"
   ]
  },
  {
   "cell_type": "code",
   "execution_count": null,
   "metadata": {},
   "outputs": [],
   "source": [
    "# Use the two sets of four points to compute \n",
    "# the Perspective Transformation matrix, M    \n",
    "M = cv2.getPerspectiveTransform(Source_points, Destination_points)\n",
    " \n",
    "warped = cv2.warpPerspective(image, M, (width, height))\n",
    " \n",
    "cv2.imshow('warped Image', warped)\n",
    "cv2.waitKey()\n",
    "cv2.destroyAllWindows()"
   ]
  },
  {
   "cell_type": "code",
   "execution_count": null,
   "metadata": {},
   "outputs": [],
   "source": []
  }
 ],
 "metadata": {
  "kernelspec": {
   "display_name": "Python 3",
   "language": "python",
   "name": "python3"
  },
  "language_info": {
   "codemirror_mode": {
    "name": "ipython",
    "version": 3
   },
   "file_extension": ".py",
   "mimetype": "text/x-python",
   "name": "python",
   "nbconvert_exporter": "python",
   "pygments_lexer": "ipython3",
   "version": "3.5.2"
  },
  "widgets": {
   "state": {},
   "version": "1.1.2"
  }
 },
 "nbformat": 4,
 "nbformat_minor": 1
}
