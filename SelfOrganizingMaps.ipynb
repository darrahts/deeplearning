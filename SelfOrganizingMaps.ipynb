{
 "cells": [
  {
   "cell_type": "markdown",
   "metadata": {},
   "source": [
    "# Self Organizing Maps\n",
    "unsupervised learning method  \n",
    "https://sci2s.ugr.es/keel/pdf/algorithm/articulo/1990-Kohonen-PIEEE.pdf  \n",
    "http://www.cs.bham.ac.uk/~jxb/NN/l16.pdf  \n",
    "http://aa.ssdi.di.fct.unl.pt/files/AA-16_notes.pdf\n",
    "- import libraries"
   ]
  },
  {
   "cell_type": "code",
   "execution_count": 90,
   "metadata": {},
   "outputs": [
    {
     "name": "stderr",
     "output_type": "stream",
     "text": [
      "Using TensorFlow backend.\n"
     ]
    }
   ],
   "source": [
    "import numpy as np\n",
    "import matplotlib.pyplot as plt\n",
    "import pandas as pd\n",
    "from sklearn.preprocessing import MinMaxScaler, StandardScaler\n",
    "from minisom import MiniSom\n",
    "import math\n",
    "from pylab import bone, pcolor, colorbar, plot, show\n",
    "from keras.models import Sequential\n",
    "from keras.layers import Dense"
   ]
  },
  {
   "cell_type": "markdown",
   "metadata": {},
   "source": [
    "- read the dataset"
   ]
  },
  {
   "cell_type": "code",
   "execution_count": 4,
   "metadata": {},
   "outputs": [
    {
     "data": {
      "text/html": [
       "<div>\n",
       "<style scoped>\n",
       "    .dataframe tbody tr th:only-of-type {\n",
       "        vertical-align: middle;\n",
       "    }\n",
       "\n",
       "    .dataframe tbody tr th {\n",
       "        vertical-align: top;\n",
       "    }\n",
       "\n",
       "    .dataframe thead th {\n",
       "        text-align: right;\n",
       "    }\n",
       "</style>\n",
       "<table border=\"1\" class=\"dataframe\">\n",
       "  <thead>\n",
       "    <tr style=\"text-align: right;\">\n",
       "      <th></th>\n",
       "      <th>CustomerID</th>\n",
       "      <th>A1</th>\n",
       "      <th>A2</th>\n",
       "      <th>A3</th>\n",
       "      <th>A4</th>\n",
       "      <th>A5</th>\n",
       "      <th>A6</th>\n",
       "      <th>A7</th>\n",
       "      <th>A8</th>\n",
       "      <th>A9</th>\n",
       "      <th>A10</th>\n",
       "      <th>A11</th>\n",
       "      <th>A12</th>\n",
       "      <th>A13</th>\n",
       "      <th>A14</th>\n",
       "      <th>Class</th>\n",
       "    </tr>\n",
       "  </thead>\n",
       "  <tbody>\n",
       "    <tr>\n",
       "      <th>0</th>\n",
       "      <td>15776156</td>\n",
       "      <td>1</td>\n",
       "      <td>22.08</td>\n",
       "      <td>11.46</td>\n",
       "      <td>2</td>\n",
       "      <td>4</td>\n",
       "      <td>4</td>\n",
       "      <td>1.585</td>\n",
       "      <td>0</td>\n",
       "      <td>0</td>\n",
       "      <td>0</td>\n",
       "      <td>1</td>\n",
       "      <td>2</td>\n",
       "      <td>100</td>\n",
       "      <td>1213</td>\n",
       "      <td>0</td>\n",
       "    </tr>\n",
       "    <tr>\n",
       "      <th>1</th>\n",
       "      <td>15739548</td>\n",
       "      <td>0</td>\n",
       "      <td>22.67</td>\n",
       "      <td>7.00</td>\n",
       "      <td>2</td>\n",
       "      <td>8</td>\n",
       "      <td>4</td>\n",
       "      <td>0.165</td>\n",
       "      <td>0</td>\n",
       "      <td>0</td>\n",
       "      <td>0</td>\n",
       "      <td>0</td>\n",
       "      <td>2</td>\n",
       "      <td>160</td>\n",
       "      <td>1</td>\n",
       "      <td>0</td>\n",
       "    </tr>\n",
       "    <tr>\n",
       "      <th>2</th>\n",
       "      <td>15662854</td>\n",
       "      <td>0</td>\n",
       "      <td>29.58</td>\n",
       "      <td>1.75</td>\n",
       "      <td>1</td>\n",
       "      <td>4</td>\n",
       "      <td>4</td>\n",
       "      <td>1.250</td>\n",
       "      <td>0</td>\n",
       "      <td>0</td>\n",
       "      <td>0</td>\n",
       "      <td>1</td>\n",
       "      <td>2</td>\n",
       "      <td>280</td>\n",
       "      <td>1</td>\n",
       "      <td>0</td>\n",
       "    </tr>\n",
       "    <tr>\n",
       "      <th>3</th>\n",
       "      <td>15687688</td>\n",
       "      <td>0</td>\n",
       "      <td>21.67</td>\n",
       "      <td>11.50</td>\n",
       "      <td>1</td>\n",
       "      <td>5</td>\n",
       "      <td>3</td>\n",
       "      <td>0.000</td>\n",
       "      <td>1</td>\n",
       "      <td>1</td>\n",
       "      <td>11</td>\n",
       "      <td>1</td>\n",
       "      <td>2</td>\n",
       "      <td>0</td>\n",
       "      <td>1</td>\n",
       "      <td>1</td>\n",
       "    </tr>\n",
       "    <tr>\n",
       "      <th>4</th>\n",
       "      <td>15715750</td>\n",
       "      <td>1</td>\n",
       "      <td>20.17</td>\n",
       "      <td>8.17</td>\n",
       "      <td>2</td>\n",
       "      <td>6</td>\n",
       "      <td>4</td>\n",
       "      <td>1.960</td>\n",
       "      <td>1</td>\n",
       "      <td>1</td>\n",
       "      <td>14</td>\n",
       "      <td>0</td>\n",
       "      <td>2</td>\n",
       "      <td>60</td>\n",
       "      <td>159</td>\n",
       "      <td>1</td>\n",
       "    </tr>\n",
       "  </tbody>\n",
       "</table>\n",
       "</div>"
      ],
      "text/plain": [
       "   CustomerID  A1     A2     A3  A4  A5  A6     A7  A8  A9  A10  A11  A12  \\\n",
       "0    15776156   1  22.08  11.46   2   4   4  1.585   0   0    0    1    2   \n",
       "1    15739548   0  22.67   7.00   2   8   4  0.165   0   0    0    0    2   \n",
       "2    15662854   0  29.58   1.75   1   4   4  1.250   0   0    0    1    2   \n",
       "3    15687688   0  21.67  11.50   1   5   3  0.000   1   1   11    1    2   \n",
       "4    15715750   1  20.17   8.17   2   6   4  1.960   1   1   14    0    2   \n",
       "\n",
       "   A13   A14  Class  \n",
       "0  100  1213      0  \n",
       "1  160     1      0  \n",
       "2  280     1      0  \n",
       "3    0     1      1  \n",
       "4   60   159      1  "
      ]
     },
     "execution_count": 4,
     "metadata": {},
     "output_type": "execute_result"
    }
   ],
   "source": [
    "dataset = pd.read_csv('datasets/Credit_Card_Applications.csv')\n",
    "dataset.head()"
   ]
  },
  {
   "cell_type": "code",
   "execution_count": 134,
   "metadata": {},
   "outputs": [],
   "source": [
    "X = dataset.iloc[:,:-1].values\n",
    "y = dataset.iloc[:, -1].values"
   ]
  },
  {
   "cell_type": "markdown",
   "metadata": {},
   "source": [
    "- feature scaling"
   ]
  },
  {
   "cell_type": "code",
   "execution_count": 135,
   "metadata": {},
   "outputs": [],
   "source": [
    "scaler   = MinMaxScaler() # default range is (0,1)\n",
    "X_scaled = scaler.fit_transform(X)"
   ]
  },
  {
   "cell_type": "markdown",
   "metadata": {},
   "source": [
    "- train the SOM"
   ]
  },
  {
   "cell_type": "code",
   "execution_count": 136,
   "metadata": {},
   "outputs": [
    {
     "data": {
      "text/plain": [
       "10"
      ]
     },
     "execution_count": 136,
     "metadata": {},
     "output_type": "execute_result"
    }
   ],
   "source": [
    "mapSize = math.ceil(math.sqrt(5*math.sqrt(len(X)))*4/5) # rule of thumb\n",
    "mapSize"
   ]
  },
  {
   "cell_type": "code",
   "execution_count": 141,
   "metadata": {},
   "outputs": [],
   "source": [
    "som = MiniSom(x=10,y=10, input_len=15, sigma=1.25, learning_rate=.25)\n",
    "som.random_weights_init(X_scaled)\n",
    "som.train_random(X_scaled, 192) # data, iterations"
   ]
  },
  {
   "cell_type": "markdown",
   "metadata": {},
   "source": [
    "- visualize the map (with pylab, not matplotlib)\n",
    "- use mean inter-neuron distance (MID)\n",
    "- add markers to identify fraud"
   ]
  },
  {
   "cell_type": "code",
   "execution_count": 142,
   "metadata": {},
   "outputs": [
    {
     "data": {
      "image/png": "[encoded data removed]",
      "text/plain": [
       "<Figure size 432x288 with 2 Axes>"
      ]
     },
     "metadata": {
      "needs_background": "light"
     },
     "output_type": "display_data"
    }
   ],
   "source": [
    "markers = ['o', 's'] # circle, square\n",
    "colors  = ['r', 'g'] # red is no approval, green is approval\n",
    "mid_map = som.distance_map()\n",
    "bone() # creates an empty canvas\n",
    "pcolor(mid_map.T)\n",
    "colorbar() # higher number is correlated to outliers\n",
    "\n",
    "for i,x in enumerate(X_scaled):\n",
    "    node = som.winner(x)\n",
    "    plot(node[0]+.5, node[1]+.5, markers[y[i]], markeredgecolor=colors[y[i]], markerfacecolor='None', markersize=10, markeredgewidth=2)  "
   ]
  },
  {
   "cell_type": "markdown",
   "metadata": {},
   "source": [
    "- detect the potential frauds (light colors)"
   ]
  },
  {
   "cell_type": "code",
   "execution_count": 143,
   "metadata": {},
   "outputs": [
    {
     "name": "stdout",
     "output_type": "stream",
     "text": [
      "list of potential fraudulent applicant IDs: \n"
     ]
    },
    {
     "data": {
      "text/plain": [
       "array([15704581., 15725776., 15697460., 15737998., 15586183., 15718921.,\n",
       "       15633944., 15607988., 15683993., 15797767., 15744044., 15632010.,\n",
       "       15804235., 15627365., 15573798., 15700300., 15647295., 15791944.,\n",
       "       15576680., 15620570., 15592412., 15608595., 15666166., 15665087.,\n",
       "       15590434., 15567839., 15671014., 15579583., 15642336., 15740487.,\n",
       "       15593345., 15811742., 15647191., 15702571., 15622083., 15646190.,\n",
       "       15689692., 15672357., 15788634.])"
      ]
     },
     "execution_count": 143,
     "metadata": {},
     "output_type": "execute_result"
    }
   ],
   "source": [
    "mappings = som.win_map(X_scaled)\n",
    "frauds   = np.concatenate((mappings[(1,7)], mappings[(2,7)], mappings[(4,8)]), axis=0)\n",
    "frauds   = scaler.inverse_transform(frauds)\n",
    "print(\"list of potential fraudulent applicant IDs: \")\n",
    "frauds[:,0]"
   ]
  },
  {
   "cell_type": "markdown",
   "metadata": {},
   "source": [
    "- determine how many potential frauds were approved\n",
    "- generate dependent variable for following step"
   ]
  },
  {
   "cell_type": "code",
   "execution_count": 144,
   "metadata": {},
   "outputs": [
    {
     "name": "stdout",
     "output_type": "stream",
     "text": [
      "number of approved applications flagged as fraud:  10\n",
      "total number of applications flagged as fraud:  39\n"
     ]
    }
   ],
   "source": [
    "final_list = []\n",
    "y = np.zeros(len(dataset))\n",
    "for i,x in enumerate(frauds[:,0]):\n",
    "    for j in range(0, len(dataset)):\n",
    "        if int(x) == int(dataset['CustomerID'].iloc[j]):\n",
    "            final_list.append([x, dataset['Class'].iloc[j]])\n",
    "            y[j] = 1;\n",
    "\n",
    "final_list = np.array((final_list))\n",
    "print(\"number of approved applications flagged as fraud: \", int(np.sum(final_list[:,1])))\n",
    "print(\"total number of applications flagged as fraud: \", len(final_list))"
   ]
  },
  {
   "cell_type": "markdown",
   "metadata": {},
   "source": [
    "### Use an ANN to determine the probability of fraud"
   ]
  },
  {
   "cell_type": "code",
   "execution_count": 145,
   "metadata": {},
   "outputs": [],
   "source": [
    "X      = dataset.iloc[:,1:].values\n",
    "scaler = StandardScaler()\n",
    "X      = scaler.fit_transform(X)"
   ]
  },
  {
   "cell_type": "code",
   "execution_count": 152,
   "metadata": {},
   "outputs": [
    {
     "name": "stdout",
     "output_type": "stream",
     "text": [
      "Epoch 1/4\n",
      "690/690 [==============================] - 1s 2ms/step - loss: 0.3038 - acc: 0.9435\n",
      "Epoch 2/4\n",
      "690/690 [==============================] - 1s 1ms/step - loss: 0.1935 - acc: 0.9435\n",
      "Epoch 3/4\n",
      "690/690 [==============================] - 1s 1ms/step - loss: 0.1766 - acc: 0.9435\n",
      "Epoch 4/4\n",
      "690/690 [==============================] - 1s 1ms/step - loss: 0.1534 - acc: 0.9435\n"
     ]
    },
    {
     "data": {
      "text/plain": [
       "<keras.callbacks.History at 0x7f8416832588>"
      ]
     },
     "execution_count": 152,
     "metadata": {},
     "output_type": "execute_result"
    }
   ],
   "source": [
    "classifier = Sequential()\n",
    "classifier.add(Dense(units=10, kernel_initializer='uniform', activation='relu', input_dim=15))\n",
    "classifier.add(Dense(units=1, kernel_initializer='uniform', activation='relu'))\n",
    "classifier.compile(optimizer='adam', loss='binary_crossentropy', metrics=['accuracy'])\n",
    "\n",
    "classifier.fit(X, y, batch_size=1, epochs=4)"
   ]
  },
  {
   "cell_type": "code",
   "execution_count": 161,
   "metadata": {},
   "outputs": [],
   "source": [
    "y_pred = classifier.predict(X)\n",
    "y_pred = np.concatenate((dataset.iloc[:,0:1].values, y_pred), axis=1)\n",
    "y_pred = y_pred[y_pred[:,1].argsort()]"
   ]
  },
  {
   "cell_type": "markdown",
   "metadata": {},
   "source": [
    "- find our flagged customers and plot with their probability of fraud"
   ]
  },
  {
   "cell_type": "code",
   "execution_count": 161,
   "metadata": {},
   "outputs": [],
   "source": []
  },
  {
   "cell_type": "code",
   "execution_count": 195,
   "metadata": {},
   "outputs": [
    {
     "data": {
      "image/png": "[encoded data removed]",
      "text/plain": [
       "<Figure size 432x288 with 1 Axes>"
      ]
     },
     "metadata": {
      "needs_background": "light"
     },
     "output_type": "display_data"
    }
   ],
   "source": [
    "plt.plot(y_pred[:,1])\n",
    "plt.title(\"probability of fraud\")\n",
    "plt.xlabel(\"customer #\")\n",
    "plt.ylabel(\"probability of fraud\")\n",
    "plt.annotate(\"markers: identified as potential fraud\", xy=(.2,.2))\n",
    "plt.annotate(\"green:    denied application (good)\",xy=(0.185,0.185))\n",
    "plt.annotate(\"red:        approved application (bad)\", xy=(0.17,0.17))\n",
    "for i,x in enumerate(y_pred):\n",
    "    for j,y in enumerate(final_list):\n",
    "        if x[0] == final_list[j,0]:\n",
    "            if final_list[j,1] == 0.0:\n",
    "                plot(i,y_pred[i,1], 'o', markerfacecolor='g', markeredgecolor='g')\n",
    "            else:\n",
    "                plot(i,y_pred[i,1], 'o', markerfacecolor='r', markeredgecolor='r')\n",
    "plt.show()"
   ]
  },
  {
   "cell_type": "code",
   "execution_count": 176,
   "metadata": {},
   "outputs": [
    {
     "name": "stdout",
     "output_type": "stream",
     "text": [
      "556 0.07097552716732025 0.0\n",
      "583 0.08715880662202835 0.0\n",
      "598 0.09474866092205048 0.0\n",
      "617 0.10541120916604996 0.0\n",
      "624 0.11344428360462189 0.0\n",
      "625 0.1134578213095665 1.0\n",
      "627 0.11464262008666992 1.0\n",
      "629 0.116791732609272 1.0\n",
      "631 0.11914525181055069 1.0\n",
      "636 0.12182814627885818 1.0\n",
      "637 0.1228957399725914 0.0\n",
      "639 0.12466996908187866 0.0\n",
      "641 0.12695437669754028 0.0\n",
      "647 0.1331232488155365 0.0\n",
      "649 0.1344071328639984 0.0\n",
      "650 0.13476812839508057 1.0\n",
      "652 0.13555409014225006 0.0\n",
      "653 0.1384676694869995 0.0\n",
      "655 0.1389642059803009 1.0\n",
      "660 0.14330175518989563 0.0\n",
      "661 0.1460697054862976 1.0\n",
      "663 0.14619231224060059 0.0\n",
      "664 0.14726322889328003 0.0\n",
      "666 0.14805948734283447 1.0\n",
      "667 0.14891627430915833 0.0\n",
      "668 0.15140241384506226 0.0\n",
      "670 0.15500199794769287 0.0\n",
      "671 0.15642359852790833 0.0\n",
      "672 0.15667200088500977 0.0\n",
      "674 0.15759190917015076 0.0\n",
      "676 0.16073784232139587 0.0\n",
      "678 0.16824185848236084 0.0\n",
      "679 0.16859182715415955 1.0\n",
      "681 0.1736619472503662 0.0\n",
      "682 0.17443996667861938 0.0\n",
      "683 0.17516356706619263 0.0\n",
      "685 0.1783226728439331 0.0\n",
      "686 0.17853441834449768 0.0\n",
      "689 0.21297994256019592 0.0\n"
     ]
    }
   ],
   "source": [
    "for i,x in enumerate(y_pred):\n",
    "    for j,y in enumerate(final_list):\n",
    "        if x[0] ==final_list[j,0]:\n",
    "            print(i,y_pred[i,1], final_list[j,1])"
   ]
  }
 ],
 "metadata": {
  "kernelspec": {
   "display_name": "Python 3",
   "language": "python",
   "name": "python3"
  },
  "language_info": {
   "codemirror_mode": {
    "name": "ipython",
    "version": 3
   },
   "file_extension": ".py",
   "mimetype": "text/x-python",
   "name": "python",
   "nbconvert_exporter": "python",
   "pygments_lexer": "ipython3",
   "version": "3.6.9"
  }
 },
 "nbformat": 4,
 "nbformat_minor": 2
}
