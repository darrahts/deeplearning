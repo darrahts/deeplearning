{
 "cells": [
  {
   "cell_type": "markdown",
   "metadata": {},
   "source": [
    "# Multiclass classification with Keras\n",
    "- single perceptron with sigmoid was good for binary classification, not applicable for multiclass\n",
    "- multiple perceptrons with softmax is used for multiclass \n",
    "- https://developers.google.com/machine-learning/crash-course/multi-class-neural-networks/softmax\n",
    "- https://medium.com/data-science-bootcamp/understand-the-softmax-function-in-minutes-f3a59641e86d\n",
    "- softmax assigns a probability that a given data vector belongs to a given class (sort of like naive bayes)\n",
    "- uses categorical cross entropy https://gombru.github.io/2018/05/23/cross_entropy_loss/"
   ]
  },
  {
   "cell_type": "markdown",
   "metadata": {},
   "source": [
    "### Imports\n",
    "- Sequential allows for the creation of a model layer by laer\n",
    "- Dense creates fully connected layers\n",
    "- Adam optimizer is an extension to stochastic gradient descent in that it computes individual adaptive learning rates for different parameters from estimates of first and second moments of the gradient\n",
    "- https://machinelearningmastery.com/adam-optimization-algorithm-for-deep-learning/\n",
    "- to_categorical one hot encodes categorical features"
   ]
  },
  {
   "cell_type": "code",
   "execution_count": 1,
   "metadata": {},
   "outputs": [
    {
     "name": "stderr",
     "output_type": "stream",
     "text": [
      "Using TensorFlow backend.\n"
     ]
    }
   ],
   "source": [
    "import numpy as np\n",
    "import matplotlib.pyplot as plt\n",
    "from sklearn import datasets\n",
    "from keras.models import Sequential\n",
    "from keras.layers import Dense\n",
    "from keras.optimizers import Adam\n",
    "from keras.utils.np_utils import to_categorical"
   ]
  },
  {
   "cell_type": "markdown",
   "metadata": {},
   "source": [
    "### Functions\n",
    "- **plotDecisionBoundary** creates a contour plot to easily visualize the decision boundary of the classifier\n",
    "- uses model.predict_classes, instead of model.predict"
   ]
  },
  {
   "cell_type": "code",
   "execution_count": 2,
   "metadata": {},
   "outputs": [],
   "source": [
    "def plotDecisionBoundary(X,y, mdl):\n",
    "    xSpan = np.linspace(min(X[:,0])-1, max(X[:,0])+1)\n",
    "    ySpan = np.linspace(min(X[:,1])-1, max(X[:,0])+1)\n",
    "    xx,yy = np.meshgrid(xSpan, ySpan)\n",
    "    _xx,_yy = xx.ravel(), yy.ravel()\n",
    "    grid = np.c_[_xx,_yy]\n",
    "    pred = model.predict_classes(grid)\n",
    "    z = pred.reshape(xx.shape)\n",
    "    plt.contourf(xx,yy,z)"
   ]
  },
  {
   "cell_type": "markdown",
   "metadata": {},
   "source": [
    "### Generate random data samples\n",
    "- create 3 classes and the dataset\n",
    "- make_blobs for multiclass classification \n",
    "- https://scikit-learn.org/stable/modules/generated/sklearn.datasets.make_blobs.html"
   ]
  },
  {
   "cell_type": "code",
   "execution_count": 3,
   "metadata": {},
   "outputs": [],
   "source": [
    "numPoints = 500\n",
    "clusterCenters = [[-.7, 0.1],\n",
    "                  [1.4, .9],\n",
    "                  [1.2, -1.2]]\n",
    "X, _y = datasets.make_blobs(n_samples=numPoints, random_state=31, centers=clusterCenters, cluster_std=.5)"
   ]
  },
  {
   "cell_type": "markdown",
   "metadata": {},
   "source": [
    "### Plot the dataset\n",
    "- display the three classes"
   ]
  },
  {
   "cell_type": "code",
   "execution_count": 4,
   "metadata": {},
   "outputs": [
    {
     "data": {
      "image/png": "[encoded data removed]",
      "text/plain": [
       "<Figure size 432x288 with 1 Axes>"
      ]
     },
     "metadata": {
      "needs_background": "light"
     },
     "output_type": "display_data"
    }
   ],
   "source": [
    "plt.scatter(X[_y==0,0], X[_y==0,1], color='blue')\n",
    "plt.scatter(X[_y==1,0], X[_y==1,1], color='red')\n",
    "plt.scatter(X[_y==2,0], X[_y==2,1], color='yellow')\n",
    "plt.legend([\"class 0\", \"class 1\", \"class 2\"])\n",
    "plt.show()"
   ]
  },
  {
   "cell_type": "markdown",
   "metadata": {},
   "source": [
    "### Encode the labels\n",
    "- https://www.kaggle.com/dansbecker/using-categorical-data-with-one-hot-encoding\n",
    "- example of some labels before and after encoding [7:13] is just arbitrary"
   ]
  },
  {
   "cell_type": "code",
   "execution_count": 5,
   "metadata": {},
   "outputs": [
    {
     "name": "stdout",
     "output_type": "stream",
     "text": [
      "[0 2 1 1 1 0]\n"
     ]
    }
   ],
   "source": [
    "print(_y[7:13]) #labels before"
   ]
  },
  {
   "cell_type": "code",
   "execution_count": 6,
   "metadata": {},
   "outputs": [
    {
     "name": "stdout",
     "output_type": "stream",
     "text": [
      "[[1. 0. 0.]\n",
      " [0. 0. 1.]\n",
      " [0. 1. 0.]\n",
      " [0. 1. 0.]\n",
      " [0. 1. 0.]\n",
      " [1. 0. 0.]]\n"
     ]
    }
   ],
   "source": [
    "y = to_categorical(_y,3)\n",
    "print(y[7:13]) #labels after"
   ]
  },
  {
   "cell_type": "markdown",
   "metadata": {},
   "source": [
    "### Define the model\n",
    "- single layer multiperceptron\n",
    "- 2 inputs (x and y coordinates)\n",
    "- 3 outputs (number of outputs = number of classes)\n",
    "- each output is the probability of that class"
   ]
  },
  {
   "cell_type": "code",
   "execution_count": 7,
   "metadata": {},
   "outputs": [],
   "source": [
    "model = Sequential(0)\n",
    "model.add(Dense(units=3, input_shape=(2,), activation='softmax'))\n",
    "model.compile(Adam(0.3), loss='categorical_crossentropy', metrics=['accuracy'])"
   ]
  },
  {
   "cell_type": "markdown",
   "metadata": {},
   "source": [
    "### Fit the model"
   ]
  },
  {
   "cell_type": "code",
   "execution_count": 8,
   "metadata": {},
   "outputs": [],
   "source": [
    "hist = model.fit(x=X, y=y, verbose=0, batch_size=50, epochs=200)"
   ]
  },
  {
   "cell_type": "markdown",
   "metadata": {},
   "source": [
    "### Visualize the model performance\n",
    "- returns a history object, which is used to plot the model performance"
   ]
  },
  {
   "cell_type": "code",
   "execution_count": 9,
   "metadata": {},
   "outputs": [
    {
     "name": "stdout",
     "output_type": "stream",
     "text": [
      "dict_keys(['loss', 'acc'])\n"
     ]
    },
    {
     "data": {
      "image/png": "[encoded data removed]",
      "text/plain": [
       "<Figure size 432x288 with 1 Axes>"
      ]
     },
     "metadata": {
      "needs_background": "light"
     },
     "output_type": "display_data"
    }
   ],
   "source": [
    "print(hist.history.keys())\n",
    "plt.plot(hist.history['acc'], label='accuracy')\n",
    "plt.plot(hist.history['loss'], label='loss')\n",
    "plt.title(\"model performance\")\n",
    "plt.xlabel(\"epoch\")\n",
    "plt.legend()\n",
    "plt.show()"
   ]
  },
  {
   "cell_type": "markdown",
   "metadata": {},
   "source": [
    "### Make predictions\n",
    "- in a real scenario you would use a test set\n",
    "- here points are created on purpose "
   ]
  },
  {
   "cell_type": "code",
   "execution_count": 12,
   "metadata": {},
   "outputs": [
    {
     "name": "stdout",
     "output_type": "stream",
     "text": [
      "[0]\n",
      "[1]\n",
      "[2]\n"
     ]
    }
   ],
   "source": [
    "class0 = np.array([[0.1, -.1]])\n",
    "pred0 = model.predict_classes(class0)\n",
    "class1 = np.array([[1.1, 0.0]])\n",
    "pred1 = model.predict_classes(class1)\n",
    "class2 = np.array([[.72, -0.53]])\n",
    "pred2 = model.predict_classes(class2)\n",
    "print(pred0)\n",
    "print(pred1)\n",
    "print(pred2)"
   ]
  },
  {
   "cell_type": "markdown",
   "metadata": {},
   "source": [
    "### Plot decision boundary\n",
    "- uses contourf function \n",
    "- https://matplotlib.org/api/_as_gen/matplotlib.pyplot.contourf.html\n",
    "- visualize the decision gradient"
   ]
  },
  {
   "cell_type": "code",
   "execution_count": 13,
   "metadata": {},
   "outputs": [
    {
     "data": {
      "text/plain": [
       "<matplotlib.legend.Legend at 0x7ff0cc327a58>"
      ]
     },
     "execution_count": 13,
     "metadata": {},
     "output_type": "execute_result"
    },
    {
     "data": {
      "image/png": "[encoded data removed]",
      "text/plain": [
       "<Figure size 432x288 with 1 Axes>"
      ]
     },
     "metadata": {
      "needs_background": "light"
     },
     "output_type": "display_data"
    }
   ],
   "source": [
    "plotDecisionBoundary(X,y,model)\n",
    "plt.scatter(X[_y==0,0], X[_y==0,1], color='blue')\n",
    "plt.scatter(X[_y==1,0], X[_y==1,1], color='red')\n",
    "plt.scatter(X[_y==2,0], X[_y==2,1], color='yellow')\n",
    "axes = plt.gca()\n",
    "axes.set_ylim([X[:,1].min()-.1,X[:,1].max()+.1])\n",
    "axes.set_xlim([X[:,0].min()-.1,X[:,0].max()+.1])\n",
    "plt.plot(class0[0,0], class0[0,1], marker=\"o\", markersize=12, color='green', label=\"class: 0, pred: %d\" % pred0)\n",
    "plt.plot(class1[0,0], class1[0,1], marker=\"o\", markersize=12, color='white', label=\"class: 1, pred: %d\" % pred1)\n",
    "plt.plot(class2[0,0], class2[0,1], marker=\"o\", markersize=12, color='black', label=\"class: 2, pred: %d\" %pred2)\n",
    "plt.legend()"
   ]
  },
  {
   "cell_type": "code",
   "execution_count": null,
   "metadata": {},
   "outputs": [],
   "source": []
  },
  {
   "cell_type": "code",
   "execution_count": null,
   "metadata": {},
   "outputs": [],
   "source": []
  }
 ],
 "metadata": {
  "kernelspec": {
   "display_name": "Python 3",
   "language": "python",
   "name": "python3"
  },
  "language_info": {
   "codemirror_mode": {
    "name": "ipython",
    "version": 3
   },
   "file_extension": ".py",
   "mimetype": "text/x-python",
   "name": "python",
   "nbconvert_exporter": "python",
   "pygments_lexer": "ipython3",
   "version": "3.6.8"
  }
 },
 "nbformat": 4,
 "nbformat_minor": 2
}
