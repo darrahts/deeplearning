{
 "cells": [
  {
   "cell_type": "markdown",
   "metadata": {},
   "source": [
    "# Generative Adversarial Networks\n",
    "- https://skymind.ai/wiki/generative-adversarial-network-gan\n",
    "- https://towardsdatascience.com/understanding-generative-adversarial-networks-gans-cd6e4651a29\n",
    "- https://papers.nips.cc/paper/5423-generative-adversarial-nets.pdf\n",
    "- https://machinelearningmastery.com/what-are-generative-adversarial-networks-gans/\n",
    "- https://arxiv.org/pdf/1511.06434.pdf"
   ]
  },
  {
   "cell_type": "code",
   "execution_count": 1,
   "metadata": {},
   "outputs": [],
   "source": [
    "import os\n",
    "import scipy as sp\n",
    "import numpy as np\n",
    "import pandas as pd\n",
    "import tensorflow as tf\n",
    "import matplotlib.pyplot as plt\n",
    "from sklearn.utils import shuffle\n",
    "import time\n",
    "from datetime import datetime"
   ]
  },
  {
   "cell_type": "code",
   "execution_count": 8,
   "metadata": {},
   "outputs": [],
   "source": [
    "def lrelu(x, alpha=.2):\n",
    "    return tf.maximum(alpha*x, x)"
   ]
  },
  {
   "cell_type": "code",
   "execution_count": null,
   "metadata": {},
   "outputs": [],
   "source": [
    "class ConvLayer(object):\n",
    "    def __init__(self, name, sz_in, sz_out, apply_batch_norm=True, sz_filter=5, stride=2, activation=tf.nn.relu):\n",
    "        \"\"\"\n",
    "            Descr: initializes a convolution layer\n",
    "            \n",
    "            Params:\n",
    "                name:\n",
    "                sz_in:\n",
    "                sz_out:\n",
    "                apply_batch_norm:\n",
    "                sz_filter:\n",
    "                stride:\n",
    "                activation:\n",
    "        \"\"\"\n",
    "        self.W = tf.get_variable(\"W_%s\" % name, shape=(sz_filter, sz_in, sz_out), initializer=tf.truncated_normal_initializer(stddev=.02))\n",
    "        self.b = tf.get_variable(\"b_%s\" % name, shape=(sz_out,), initializer=tf.zeros_initializer())\n",
    "        \n",
    "        self.name = name\n",
    "        self.activation = activation\n",
    "        self.stride = stride\n",
    "        self.apply_batch_norm = apply_batch_norm\n",
    "        self.params = [self.W, self.b]\n",
    "        \n",
    "    def forward(self, X, reuse, is_training, decay=.9, epsilon=1e-5):\n",
    "        \"\"\"\n",
    "            Descr: performs feedforward operation on a layer\n",
    "            \n",
    "            Params:\n",
    "                X:\n",
    "                reuse:\n",
    "                is_training:\n",
    "                decay:\n",
    "                epsilon:\n",
    "        \"\"\"\n",
    "        conv_out = tf.nn.conv2d(X, self.W, strides=[1, self.stride, self.stride, 1], padding='SAME')\n",
    "        conv_out = tf.nn.bias_add(conv_out, self.b)\n",
    "        \n",
    "        if(self.apply_batch_norm):\n",
    "            conv_out = tf.contrib.layers.batch_norm(conv_out, decay=decay, updates_collections=None, epsilon=epsilon, scale=True, is_training=is_training, reuse=reuse, scope=self.name)\n",
    "        \n",
    "        return self.activation(conv_out)\n",
    "    \n",
    "\n",
    "        \n",
    "        "
   ]
  },
  {
   "cell_type": "code",
   "execution_count": null,
   "metadata": {},
   "outputs": [],
   "source": []
  },
  {
   "cell_type": "code",
   "execution_count": null,
   "metadata": {},
   "outputs": [],
   "source": []
  },
  {
   "cell_type": "code",
   "execution_count": null,
   "metadata": {},
   "outputs": [],
   "source": []
  },
  {
   "cell_type": "code",
   "execution_count": null,
   "metadata": {},
   "outputs": [],
   "source": []
  },
  {
   "cell_type": "code",
   "execution_count": null,
   "metadata": {},
   "outputs": [],
   "source": []
  },
  {
   "cell_type": "code",
   "execution_count": null,
   "metadata": {},
   "outputs": [],
   "source": []
  }
 ],
 "metadata": {
  "kernelspec": {
   "display_name": "tfgpu",
   "language": "python",
   "name": "tfgpu"
  },
  "language_info": {
   "codemirror_mode": {
    "name": "ipython",
    "version": 3
   },
   "file_extension": ".py",
   "mimetype": "text/x-python",
   "name": "python",
   "nbconvert_exporter": "python",
   "pygments_lexer": "ipython3",
   "version": "3.7.4"
  }
 },
 "nbformat": 4,
 "nbformat_minor": 4
}
