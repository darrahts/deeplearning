{
 "cells": [
  {
   "cell_type": "code",
   "execution_count": 1,
   "metadata": {},
   "outputs": [],
   "source": [
    "#the most important imports!\n",
    "import numpy as np\n",
    "import tensorflow as tf\n",
    "\n",
    "#used for generating files for tensorboard\n",
    "import sys\n",
    "import urllib.request\n",
    "import os\n",
    "\n",
    "#used for visualizing\n",
    "import matplotlib.pyplot as plt\n",
    "#used to grab random samples to visualize\n",
    "import random"
   ]
  },
  {
   "cell_type": "code",
   "execution_count": 2,
   "metadata": {},
   "outputs": [],
   "source": [
    "if sys.version_info[0] >= 3:\n",
    "    from urllib.request import urlretrieve\n",
    "else:\n",
    "    from urllib import urlretrieve"
   ]
  },
  {
   "cell_type": "markdown",
   "metadata": {},
   "source": [
    "### create the log directory for tensorboard"
   ]
  },
  {
   "cell_type": "code",
   "execution_count": 3,
   "metadata": {},
   "outputs": [],
   "source": [
    "LOGDIR = './tf_logs/mnist_deep' "
   ]
  },
  {
   "cell_type": "markdown",
   "metadata": {},
   "source": [
    "### weight and bias functions"
   ]
  },
  {
   "cell_type": "code",
   "execution_count": 4,
   "metadata": {},
   "outputs": [],
   "source": [
    "def weight(shape):\n",
    "    \"\"\"Generates a weight variable of a given shape\"\"\"\n",
    "    return tf.Variable(tf.truncated_normal(shape, stddev=.1), name=\"weight\")\n",
    "\n",
    "def bias(shape):\n",
    "    \"\"\"Generates a bias variable of a given shape\"\"\"\n",
    "    return tf.Variable(tf.constant(.1, shape=shape), name=\"bias\")\n",
    "    "
   ]
  },
  {
   "cell_type": "markdown",
   "metadata": {},
   "source": [
    "### get the dataset"
   ]
  },
  {
   "cell_type": "code",
   "execution_count": 5,
   "metadata": {},
   "outputs": [
    {
     "name": "stdout",
     "output_type": "stream",
     "text": [
      "Extracting MNIST_data/train-images-idx3-ubyte.gz\n",
      "Extracting MNIST_data/train-labels-idx1-ubyte.gz\n",
      "Extracting MNIST_data/t10k-images-idx3-ubyte.gz\n",
      "Extracting MNIST_data/t10k-labels-idx1-ubyte.gz\n"
     ]
    }
   ],
   "source": [
    "old_v = tf.logging.get_verbosity()\n",
    "tf.logging.set_verbosity(tf.logging.ERROR)\n",
    "\n",
    "from tensorflow.examples.tutorials.mnist import input_data\n",
    "\n",
    "mnist = input_data.read_data_sets(\"MNIST_data/\", one_hot=True)\n",
    "X = tf.placeholder(tf.float32, [None, 784], name=\"X\")\n",
    "_y = tf.placeholder(tf.float32, [None, 10], name=\"labels\")"
   ]
  },
  {
   "cell_type": "markdown",
   "metadata": {},
   "source": [
    "- there are 10000 images"
   ]
  },
  {
   "cell_type": "code",
   "execution_count": 6,
   "metadata": {},
   "outputs": [
    {
     "data": {
      "text/plain": [
       "10000"
      ]
     },
     "execution_count": 6,
     "metadata": {},
     "output_type": "execute_result"
    }
   ],
   "source": [
    "len(mnist.test.images)"
   ]
  },
  {
   "cell_type": "markdown",
   "metadata": {},
   "source": [
    "- here we see that each image is stored as a single vector of length 784\n",
    "- we will need to reshape that to (28,28) for visualization"
   ]
  },
  {
   "cell_type": "code",
   "execution_count": 7,
   "metadata": {},
   "outputs": [
    {
     "data": {
      "text/plain": [
       "(784,)"
      ]
     },
     "execution_count": 7,
     "metadata": {},
     "output_type": "execute_result"
    }
   ],
   "source": [
    "mnist.test.images[0].shape"
   ]
  },
  {
   "cell_type": "code",
   "execution_count": 8,
   "metadata": {},
   "outputs": [],
   "source": [
    "#mnist.test.images[0]"
   ]
  },
  {
   "cell_type": "markdown",
   "metadata": {},
   "source": [
    "### Lets take a look at a sample of the dataset\n",
    "- rerun this block to look at different samples!"
   ]
  },
  {
   "cell_type": "code",
   "execution_count": 9,
   "metadata": {},
   "outputs": [
    {
     "data": {
      "image/png": "[encoded data removed]",
      "text/plain": [
       "<Figure size 576x576 with 9 Axes>"
      ]
     },
     "metadata": {},
     "output_type": "display_data"
    }
   ],
   "source": [
    "fig=plt.figure(figsize=(8,8)) #8\"x8\" figure\n",
    "columns = 3\n",
    "rows = 3\n",
    "for i in range(1, 10):\n",
    "    img = mnist.test.images[random.randint(0,10000)] #find some random images\n",
    "    img = img.reshape((28,28)) #reshape the vector into a matrix\n",
    "    fig.add_subplot(rows, columns, i)\n",
    "    plt.imshow(img)\n",
    "plt.show()"
   ]
  },
  {
   "cell_type": "markdown",
   "metadata": {},
   "source": [
    "## NN with softmax "
   ]
  },
  {
   "cell_type": "code",
   "execution_count": 10,
   "metadata": {},
   "outputs": [],
   "source": [
    "#drop in the code here, but not all in one block!"
   ]
  },
  {
   "cell_type": "code",
   "execution_count": null,
   "metadata": {},
   "outputs": [],
   "source": []
  },
  {
   "cell_type": "code",
   "execution_count": null,
   "metadata": {},
   "outputs": [],
   "source": []
  },
  {
   "cell_type": "code",
   "execution_count": null,
   "metadata": {},
   "outputs": [],
   "source": []
  },
  {
   "cell_type": "markdown",
   "metadata": {},
   "source": [
    "### Reshape the image to use with the CNN"
   ]
  },
  {
   "cell_type": "code",
   "execution_count": 11,
   "metadata": {},
   "outputs": [],
   "source": [
    "with tf.name_scope(\"reshape\"):\n",
    "    x_image = tf.reshape(X, [-1, 28, 28, 1])\n",
    "    tf.summary.image('input', x_image, 4)"
   ]
  },
  {
   "cell_type": "markdown",
   "metadata": {},
   "source": [
    "### Convolution Layer\n",
    "- maps a [28,28,1] grayscale image to [32] features\n",
    "- **perhaps explain strides and padding**"
   ]
  },
  {
   "cell_type": "code",
   "execution_count": 12,
   "metadata": {},
   "outputs": [],
   "source": [
    "with tf.name_scope('conv1'):\n",
    "    Wc1 = weight([5,5,1,32])\n",
    "    bc1 = bias([32])\n",
    "    xc1 = tf.nn.conv2d(x_image, Wc1, strides=[1,1,1,1], padding=\"SAME\")\n",
    "    hc1 = tf.nn.relu(xc1 + bc1)\n",
    "    tf.summary.histogram(\"weights\", Wc1)\n",
    "    tf.summary.histogram(\"biases\", bc1)\n",
    "    tf.summary.histogram(\"activations\", hc1)"
   ]
  },
  {
   "cell_type": "markdown",
   "metadata": {},
   "source": [
    "### Pooling Layer\n",
    "- downsamples by 2x\n",
    "- **perhaps explain reshaping**"
   ]
  },
  {
   "cell_type": "code",
   "execution_count": 13,
   "metadata": {},
   "outputs": [],
   "source": [
    "with tf.name_scope('pool1'):\n",
    "    hp1 = tf.nn.max_pool(hc1, ksize=[1,2,2,1], strides=[1,2,2,1], padding='SAME')\n",
    "    hp1_image = tf.reshape(hp1, [-1,14,14,1])\n",
    "    tf.summary.image('conv1', hp1_image, 4)"
   ]
  },
  {
   "cell_type": "markdown",
   "metadata": {},
   "source": [
    "### Second Convolution Layer\n",
    "- maps [32] to [64]"
   ]
  },
  {
   "cell_type": "code",
   "execution_count": 14,
   "metadata": {},
   "outputs": [],
   "source": [
    "with tf.name_scope('conv2'):\n",
    "    Wc2 = weight([5,5,32,64])\n",
    "    bc2 = bias([64])\n",
    "    xc2 = tf.nn.conv2d(hp1, Wc2, strides=[1,1,1,1], padding=\"SAME\")\n",
    "    hc2 = tf.nn.relu(xc2 + bc2)\n",
    "    tf.summary.histogram(\"weights\", Wc2)\n",
    "    tf.summary.histogram(\"biases\", bc2)\n",
    "    tf.summary.histogram(\"activations\", hc2)"
   ]
  },
  {
   "cell_type": "markdown",
   "metadata": {},
   "source": [
    "### Second Pooling Layer"
   ]
  },
  {
   "cell_type": "code",
   "execution_count": 15,
   "metadata": {},
   "outputs": [],
   "source": [
    "with tf.name_scope('pool2'):\n",
    "    hp2 = tf.nn.max_pool(hc2, ksize=[1,2,2,1], strides=[1,2,2,1], padding=\"SAME\")\n",
    "    hp2_image = tf.reshape(hp2, [-1,7,7,1])\n",
    "    tf.summary.image('conv2', hp2_image, 4)"
   ]
  },
  {
   "cell_type": "markdown",
   "metadata": {},
   "source": [
    "- the original 28x28 image with 32 features is now 7x7 with 64 features"
   ]
  },
  {
   "cell_type": "code",
   "execution_count": 16,
   "metadata": {},
   "outputs": [],
   "source": [
    "with tf.name_scope('fc1'):\n",
    "    hpf = tf.reshape(hp2, [-1,7*7*64])\n",
    "    Wfc1 = weight([7*7*64, 1024])\n",
    "    bfc1 = bias([1024])\n",
    "    hfc1 = tf.nn.relu(tf.matmul(hpf, Wfc1) + bfc1)\n",
    "    tf.summary.histogram(\"weights\", Wfc1)\n",
    "    tf.summary.histogram(\"biases\", bfc1)\n",
    "    tf.summary.histogram(\"activations\", hfc1)"
   ]
  },
  {
   "cell_type": "markdown",
   "metadata": {},
   "source": [
    "### Dropouts\n",
    "- prevents overfitting "
   ]
  },
  {
   "cell_type": "code",
   "execution_count": 17,
   "metadata": {},
   "outputs": [],
   "source": [
    "with tf.name_scope(\"dropout\"):\n",
    "    Pk = tf.placeholder(tf.float32)\n",
    "    hfc1D = tf.nn.dropout(hfc1, Pk)"
   ]
  },
  {
   "cell_type": "markdown",
   "metadata": {},
   "source": [
    "### Map features to labels"
   ]
  },
  {
   "cell_type": "code",
   "execution_count": 18,
   "metadata": {},
   "outputs": [],
   "source": [
    "with tf.name_scope('fc-classify'):\n",
    "    Wfc2 = weight([1024, 10])\n",
    "    bfc2 = bias([10])\n",
    "    y = tf.matmul(hfc1D, Wfc2) + bfc2"
   ]
  },
  {
   "cell_type": "markdown",
   "metadata": {},
   "source": [
    "### define the loss"
   ]
  },
  {
   "cell_type": "code",
   "execution_count": 19,
   "metadata": {},
   "outputs": [],
   "source": [
    "with tf.name_scope(\"loss\"):\n",
    "    cross_entropy = tf.reduce_mean(tf.nn.softmax_cross_entropy_with_logits(labels=_y, logits=y),\n",
    "        name=\"cross_entropy\")\n",
    "    tf.summary.scalar('loss', cross_entropy)"
   ]
  },
  {
   "cell_type": "markdown",
   "metadata": {},
   "source": [
    "### optimizer "
   ]
  },
  {
   "cell_type": "code",
   "execution_count": 20,
   "metadata": {},
   "outputs": [],
   "source": [
    "with tf.name_scope('optimizer'):\n",
    "    train_step = tf.train.AdamOptimizer(0.0001).minimize(cross_entropy, name='train_step')\n"
   ]
  },
  {
   "cell_type": "markdown",
   "metadata": {},
   "source": [
    "### define accuracy"
   ]
  },
  {
   "cell_type": "code",
   "execution_count": 21,
   "metadata": {},
   "outputs": [],
   "source": [
    "with tf.name_scope('accuracy'):\n",
    "    correct_prediction = tf.equal(tf.argmax(y,1), tf.argmax(_y,1))\n",
    "    correct_prediction = tf.cast(correct_prediction, tf.float32, name='correct_prediction')\n",
    "    accuracy = tf.reduce_mean(correct_prediction, name='accuracy')\n",
    "    tf.summary.scalar('accuracy', accuracy)"
   ]
  },
  {
   "cell_type": "markdown",
   "metadata": {},
   "source": [
    "### start session"
   ]
  },
  {
   "cell_type": "code",
   "execution_count": 22,
   "metadata": {},
   "outputs": [],
   "source": [
    "sess = tf.InteractiveSession()\n",
    "tf.global_variables_initializer().run()\n",
    "merged = tf.summary.merge_all()"
   ]
  },
  {
   "cell_type": "code",
   "execution_count": 23,
   "metadata": {},
   "outputs": [],
   "source": [
    "writer = tf.summary.FileWriter(LOGDIR, sess.graph)"
   ]
  },
  {
   "cell_type": "markdown",
   "metadata": {},
   "source": [
    "### Set up embeddings for tensorboard visualization"
   ]
  },
  {
   "cell_type": "code",
   "execution_count": 24,
   "metadata": {},
   "outputs": [],
   "source": [
    "GITHUB_URL ='https://raw.githubusercontent.com/mamcgrath/TensorBoard-TF-Dev-Summit-Tutorial/master/'\n",
    "urlretrieve(GITHUB_URL + 'labels_1024.tsv', os.path.join(LOGDIR, 'labels_1024.tsv'))\n",
    "urlretrieve(GITHUB_URL + 'sprite_1024.png', os.path.join(LOGDIR, 'sprite_1024.png'))\n",
    "embedding = tf.Variable(tf.zeros([1024, 1024]), name=\"test_embedding\")\n",
    "assignment = embedding.assign(hfc1D)\n",
    "saver = tf.train.Saver()\n",
    "\n",
    "config = tf.contrib.tensorboard.plugins.projector.ProjectorConfig()\n",
    "embedding_config = config.embeddings.add()\n",
    "embedding_config.tensor_name = embedding.name\n",
    "embedding_config.sprite.image_path = 'sprite_1024.png'\n",
    "embedding_config.metadata_path = 'labels_1024.tsv'\n",
    "embedding_config.sprite.single_image_dim.extend([28, 28])\n",
    "tf.contrib.tensorboard.plugins.projector.visualize_embeddings(writer, config)"
   ]
  },
  {
   "cell_type": "markdown",
   "metadata": {},
   "source": [
    "### train the network"
   ]
  },
  {
   "cell_type": "code",
   "execution_count": 25,
   "metadata": {},
   "outputs": [
    {
     "name": "stdout",
     "output_type": "stream",
     "text": [
      "Step 0, Training Accuracy 0.06\n",
      "Step 100, Training Accuracy 0.85\n",
      "Step 200, Training Accuracy 0.92\n",
      "Step 300, Training Accuracy 0.93\n",
      "Step 400, Training Accuracy 0.92\n",
      "Step 500, Training Accuracy 0.98\n",
      "Step 600, Training Accuracy 0.94\n",
      "Step 700, Training Accuracy 0.99\n",
      "Step 800, Training Accuracy 0.91\n",
      "Step 900, Training Accuracy 0.94\n",
      "Step 1000, Training Accuracy 0.99\n"
     ]
    }
   ],
   "source": [
    "# Do the training.\n",
    "for i in range(1100):\n",
    "    batch = mnist.train.next_batch(100)\n",
    "    if i % 5 == 0:\n",
    "        summary = sess.run(merged, feed_dict={X: batch[0], _y: batch[1], Pk: 1.0})\n",
    "        writer.add_summary(summary, i)\n",
    "    if i % 100 == 0:\n",
    "        train_accuracy = sess.run(accuracy, feed_dict={X:batch[0], _y: batch[1], Pk: 1.0})\n",
    "        print(\"Step %d, Training Accuracy %g\" % (i, float(train_accuracy)))\n",
    "    if i % 500 == 0:\n",
    "        sess.run(assignment, feed_dict={X: mnist.test.images[:1024], _y: mnist.test.labels[:1024], Pk: 1.0})\n",
    "        saver.save(sess, os.path.join(LOGDIR, \"model.ckpt\"), i)\n",
    "    sess.run(train_step, feed_dict={X: batch[0], _y: batch[1], Pk: 0.5})"
   ]
  },
  {
   "cell_type": "markdown",
   "metadata": {},
   "source": [
    "### See how well the model performed"
   ]
  },
  {
   "cell_type": "code",
   "execution_count": 26,
   "metadata": {},
   "outputs": [
    {
     "name": "stdout",
     "output_type": "stream",
     "text": [
      "Test Accuracy 0.9697\n"
     ]
    }
   ],
   "source": [
    "print(\"Test Accuracy %g\" % sess.run(accuracy, feed_dict={X: mnist.test.images,\n",
    "                                                         _y: mnist.test.labels,\n",
    "                                                         Pk: 1.0}))\n",
    "\n",
    "# Close summary writer\n",
    "writer.close()"
   ]
  },
  {
   "cell_type": "code",
   "execution_count": null,
   "metadata": {},
   "outputs": [],
   "source": []
  },
  {
   "cell_type": "markdown",
   "metadata": {},
   "source": [
    "this looks promising https://github.com/lspvic/jupyter_tensorboard (jupiter notebook hook for tensorboard)"
   ]
  },
  {
   "cell_type": "markdown",
   "metadata": {},
   "source": [
    "timothy.s.darrah@vanderbilt.edu"
   ]
  },
  {
   "cell_type": "code",
   "execution_count": null,
   "metadata": {},
   "outputs": [],
   "source": []
  },
  {
   "cell_type": "code",
   "execution_count": null,
   "metadata": {},
   "outputs": [],
   "source": []
  },
  {
   "cell_type": "code",
   "execution_count": null,
   "metadata": {},
   "outputs": [],
   "source": []
  }
 ],
 "metadata": {
  "kernelspec": {
   "display_name": "Python 3",
   "language": "python",
   "name": "python3"
  },
  "language_info": {
   "codemirror_mode": {
    "name": "ipython",
    "version": 3
   },
   "file_extension": ".py",
   "mimetype": "text/x-python",
   "name": "python",
   "nbconvert_exporter": "python",
   "pygments_lexer": "ipython3",
   "version": "3.5.2"
  }
 },
 "nbformat": 4,
 "nbformat_minor": 2
}
