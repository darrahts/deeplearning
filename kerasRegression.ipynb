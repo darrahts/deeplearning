{
 "cells": [
  {
   "cell_type": "code",
   "execution_count": 5,
   "metadata": {},
   "outputs": [
    {
     "name": "stderr",
     "output_type": "stream",
     "text": [
      "Using TensorFlow backend.\n"
     ]
    }
   ],
   "source": [
    "import numpy as np\n",
    "import matplotlib.pyplot as plt\n",
    "from keras.models import Sequential\n",
    "from keras.layers import Dense\n",
    "from keras.optimizers import Adam\n"
   ]
  },
  {
   "cell_type": "code",
   "execution_count": null,
   "metadata": {},
   "outputs": [],
   "source": []
  },
  {
   "cell_type": "code",
   "execution_count": null,
   "metadata": {},
   "outputs": [],
   "source": []
  },
  {
   "cell_type": "code",
   "execution_count": null,
   "metadata": {},
   "outputs": [],
   "source": []
  },
  {
   "cell_type": "code",
   "execution_count": 4,
   "metadata": {},
   "outputs": [
    {
     "data": {
      "image/png": "[encoded data removed]",
      "text/plain": [
       "<Figure size 432x288 with 1 Axes>"
      ]
     },
     "metadata": {
      "needs_background": "light"
     },
     "output_type": "display_data"
    }
   ],
   "source": [
    "numPoints = 500\n",
    "x = np.linspace(-3, 3, numPoints)\n",
    "y = np.sin(x) + np.random.uniform(-.5, .5, numPoints)\n",
    "plt.scatter(x, y)\n",
    "plt.show()"
   ]
  },
  {
   "cell_type": "code",
   "execution_count": null,
   "metadata": {},
   "outputs": [],
   "source": []
  },
  {
   "cell_type": "code",
   "execution_count": 6,
   "metadata": {},
   "outputs": [],
   "source": [
    "model = Sequential()\n",
    "model.add(Dense(50, input_dim=1, activation='sigmoid'))\n",
    "model.add(Dense(30, activation='sigmoid'))\n",
    "model.add(Dense(1))\n",
    "model.compile(Adam(.01), loss='mse')"
   ]
  },
  {
   "cell_type": "code",
   "execution_count": 7,
   "metadata": {},
   "outputs": [
    {
     "name": "stdout",
     "output_type": "stream",
     "text": [
      "Epoch 1/50\n",
      "500/500 [==============================] - 0s 681us/step - loss: 0.4553\n",
      "Epoch 2/50\n",
      "500/500 [==============================] - 0s 70us/step - loss: 0.2654\n",
      "Epoch 3/50\n",
      "500/500 [==============================] - 0s 60us/step - loss: 0.2470\n",
      "Epoch 4/50\n",
      "500/500 [==============================] - 0s 59us/step - loss: 0.2607\n",
      "Epoch 5/50\n",
      "500/500 [==============================] - 0s 40us/step - loss: 0.2363\n",
      "Epoch 6/50\n",
      "500/500 [==============================] - 0s 75us/step - loss: 0.2168\n",
      "Epoch 7/50\n",
      "500/500 [==============================] - 0s 38us/step - loss: 0.2082\n",
      "Epoch 8/50\n",
      "500/500 [==============================] - 0s 72us/step - loss: 0.1980\n",
      "Epoch 9/50\n",
      "500/500 [==============================] - 0s 47us/step - loss: 0.1903\n",
      "Epoch 10/50\n",
      "500/500 [==============================] - 0s 38us/step - loss: 0.1791\n",
      "Epoch 11/50\n",
      "500/500 [==============================] - 0s 42us/step - loss: 0.1694\n",
      "Epoch 12/50\n",
      "500/500 [==============================] - 0s 66us/step - loss: 0.1558\n",
      "Epoch 13/50\n",
      "500/500 [==============================] - 0s 48us/step - loss: 0.1447\n",
      "Epoch 14/50\n",
      "500/500 [==============================] - 0s 65us/step - loss: 0.1374\n",
      "Epoch 15/50\n",
      "500/500 [==============================] - 0s 67us/step - loss: 0.1364\n",
      "Epoch 16/50\n",
      "500/500 [==============================] - 0s 37us/step - loss: 0.1243\n",
      "Epoch 17/50\n",
      "500/500 [==============================] - 0s 44us/step - loss: 0.1178\n",
      "Epoch 18/50\n",
      "500/500 [==============================] - 0s 71us/step - loss: 0.1132\n",
      "Epoch 19/50\n",
      "500/500 [==============================] - 0s 42us/step - loss: 0.1156\n",
      "Epoch 20/50\n",
      "500/500 [==============================] - 0s 69us/step - loss: 0.1133\n",
      "Epoch 21/50\n",
      "500/500 [==============================] - 0s 66us/step - loss: 0.1100\n",
      "Epoch 22/50\n",
      "500/500 [==============================] - 0s 61us/step - loss: 0.1058\n",
      "Epoch 23/50\n",
      "500/500 [==============================] - 0s 51us/step - loss: 0.1070\n",
      "Epoch 24/50\n",
      "500/500 [==============================] - 0s 50us/step - loss: 0.1070\n",
      "Epoch 25/50\n",
      "500/500 [==============================] - 0s 58us/step - loss: 0.1053\n",
      "Epoch 26/50\n",
      "500/500 [==============================] - 0s 47us/step - loss: 0.1068\n",
      "Epoch 27/50\n",
      "500/500 [==============================] - 0s 58us/step - loss: 0.1105\n",
      "Epoch 28/50\n",
      "500/500 [==============================] - 0s 49us/step - loss: 0.1024\n",
      "Epoch 29/50\n",
      "500/500 [==============================] - 0s 75us/step - loss: 0.1027\n",
      "Epoch 30/50\n",
      "500/500 [==============================] - 0s 31us/step - loss: 0.1025\n",
      "Epoch 31/50\n",
      "500/500 [==============================] - 0s 79us/step - loss: 0.1109\n",
      "Epoch 32/50\n",
      "500/500 [==============================] - 0s 53us/step - loss: 0.1192\n",
      "Epoch 33/50\n",
      "500/500 [==============================] - 0s 65us/step - loss: 0.1093\n",
      "Epoch 34/50\n",
      "500/500 [==============================] - 0s 62us/step - loss: 0.1028\n",
      "Epoch 35/50\n",
      "500/500 [==============================] - 0s 61us/step - loss: 0.0999\n",
      "Epoch 36/50\n",
      "500/500 [==============================] - 0s 56us/step - loss: 0.1001\n",
      "Epoch 37/50\n",
      "500/500 [==============================] - 0s 32us/step - loss: 0.1059\n",
      "Epoch 38/50\n",
      "500/500 [==============================] - 0s 67us/step - loss: 0.1018\n",
      "Epoch 39/50\n",
      "500/500 [==============================] - 0s 68us/step - loss: 0.0981\n",
      "Epoch 40/50\n",
      "500/500 [==============================] - 0s 82us/step - loss: 0.0947\n",
      "Epoch 41/50\n",
      "500/500 [==============================] - 0s 46us/step - loss: 0.0944\n",
      "Epoch 42/50\n",
      "500/500 [==============================] - 0s 46us/step - loss: 0.0922\n",
      "Epoch 43/50\n",
      "500/500 [==============================] - 0s 55us/step - loss: 0.0945\n",
      "Epoch 44/50\n",
      "500/500 [==============================] - 0s 37us/step - loss: 0.0968\n",
      "Epoch 45/50\n",
      "500/500 [==============================] - 0s 76us/step - loss: 0.0941\n",
      "Epoch 46/50\n",
      "500/500 [==============================] - 0s 36us/step - loss: 0.0935\n",
      "Epoch 47/50\n",
      "500/500 [==============================] - 0s 80us/step - loss: 0.0941\n",
      "Epoch 48/50\n",
      "500/500 [==============================] - 0s 51us/step - loss: 0.1026\n",
      "Epoch 49/50\n",
      "500/500 [==============================] - 0s 56us/step - loss: 0.1046\n",
      "Epoch 50/50\n",
      "500/500 [==============================] - 0s 49us/step - loss: 0.0924\n"
     ]
    },
    {
     "data": {
      "text/plain": [
       "<keras.callbacks.History at 0x7f79228e4d68>"
      ]
     },
     "execution_count": 7,
     "metadata": {},
     "output_type": "execute_result"
    }
   ],
   "source": [
    "model.fit(x, y, epochs=50)"
   ]
  },
  {
   "cell_type": "markdown",
   "metadata": {},
   "source": [
    "### Visualize the model results"
   ]
  },
  {
   "cell_type": "code",
   "execution_count": 10,
   "metadata": {},
   "outputs": [
    {
     "data": {
      "text/plain": [
       "[<matplotlib.lines.Line2D at 0x7f7914070e48>]"
      ]
     },
     "execution_count": 10,
     "metadata": {},
     "output_type": "execute_result"
    },
    {
     "data": {
      "image/png": "[encoded data removed]",
      "text/plain": [
       "<Figure size 432x288 with 1 Axes>"
      ]
     },
     "metadata": {
      "needs_background": "light"
     },
     "output_type": "display_data"
    }
   ],
   "source": [
    "y_pred = model.predict(x)\n",
    "plt.scatter(x, y)\n",
    "plt.plot(x, y_pred, 'ro')"
   ]
  },
  {
   "cell_type": "code",
   "execution_count": null,
   "metadata": {},
   "outputs": [],
   "source": []
  }
 ],
 "metadata": {
  "kernelspec": {
   "display_name": "Python 3",
   "language": "python",
   "name": "python3"
  },
  "language_info": {
   "codemirror_mode": {
    "name": "ipython",
    "version": 3
   },
   "file_extension": ".py",
   "mimetype": "text/x-python",
   "name": "python",
   "nbconvert_exporter": "python",
   "pygments_lexer": "ipython3",
   "version": "3.6.8"
  }
 },
 "nbformat": 4,
 "nbformat_minor": 2
}
